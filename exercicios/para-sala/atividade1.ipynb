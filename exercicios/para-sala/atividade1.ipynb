{
 "cells": [
  {
   "cell_type": "markdown",
   "metadata": {},
   "source": [
    "Demonstração Prática de Manipulação de Dados com NumPy e Pandas"
   ]
  },
  {
   "cell_type": "code",
   "execution_count": 94,
   "metadata": {},
   "outputs": [],
   "source": [
    "import numpy as np\n",
    "import pandas as pd\n",
    "import seaborn\n",
    "import matplotlib.pyplot as plt"
   ]
  },
  {
   "cell_type": "markdown",
   "metadata": {},
   "source": [
    "Criando arrays:"
   ]
  },
  {
   "cell_type": "code",
   "execution_count": 11,
   "metadata": {},
   "outputs": [
    {
     "name": "stdout",
     "output_type": "stream",
     "text": [
      "Essa é a lista criada: [1 2 3 4 5]\n"
     ]
    }
   ],
   "source": [
    "arr = np.array([1, 2, 3, 4, 5])\n",
    "print(f\"Essa é a lista criada: {arr}\")"
   ]
  },
  {
   "cell_type": "markdown",
   "metadata": {},
   "source": [
    "Calculando a média:"
   ]
  },
  {
   "cell_type": "code",
   "execution_count": 13,
   "metadata": {},
   "outputs": [
    {
     "name": "stdout",
     "output_type": "stream",
     "text": [
      "Média da lista: 3.0\n"
     ]
    }
   ],
   "source": [
    "arr = np.array([1,2,3,4,5])\n",
    "media = np.mean(arr)\n",
    "print(f\"Média da lista: {media}\")"
   ]
  },
  {
   "cell_type": "markdown",
   "metadata": {},
   "source": [
    "Calculando Mediana"
   ]
  },
  {
   "cell_type": "code",
   "execution_count": 18,
   "metadata": {},
   "outputs": [
    {
     "name": "stdout",
     "output_type": "stream",
     "text": [
      "Mediana da lista: 3.0\n"
     ]
    }
   ],
   "source": [
    "arr = np.array([1, 2, 3, 4, 5])\n",
    "mediana = np.median(arr)\n",
    "print(f\"Mediana da lista: {mediana}\")"
   ]
  },
  {
   "cell_type": "markdown",
   "metadata": {},
   "source": [
    "Calculando Moda:"
   ]
  },
  {
   "cell_type": "code",
   "execution_count": 24,
   "metadata": {},
   "outputs": [
    {
     "name": "stdout",
     "output_type": "stream",
     "text": [
      "1\n"
     ]
    }
   ],
   "source": [
    "# por a moda não ter uma função definida, é necessário fazer a contagem (Count()) e o argmax retorna o índice do valor máximo\n",
    "contagem = np.bincount(arr) # encontrar a contagem de cada valor \n",
    "moda = np.argmax(contagem) # encontrar o índice da contagem máxima\n",
    "print(moda)"
   ]
  },
  {
   "cell_type": "markdown",
   "metadata": {},
   "source": [
    "Calcular a variância população"
   ]
  },
  {
   "cell_type": "code",
   "execution_count": 4,
   "metadata": {},
   "outputs": [
    {
     "name": "stdout",
     "output_type": "stream",
     "text": [
      "2.0\n"
     ]
    }
   ],
   "source": [
    "arr = np.array([1, 2, 3, 4, 5])\n",
    "variancia = np.var(arr)\n",
    "print(variancia)"
   ]
  },
  {
   "cell_type": "markdown",
   "metadata": {},
   "source": [
    "Calculando o desvio padrão:"
   ]
  },
  {
   "cell_type": "code",
   "execution_count": 5,
   "metadata": {},
   "outputs": [
    {
     "name": "stdout",
     "output_type": "stream",
     "text": [
      "1.4142135623730951\n"
     ]
    }
   ],
   "source": [
    "arr= np.array([1, 2, 3, 4, 5])\n",
    "desvio_padrao = np.std(arr)\n",
    "print(desvio_padrao)"
   ]
  },
  {
   "cell_type": "markdown",
   "metadata": {},
   "source": [
    "Exercicio 1"
   ]
  },
  {
   "cell_type": "code",
   "execution_count": 57,
   "metadata": {},
   "outputs": [
    {
     "name": "stdout",
     "output_type": "stream",
     "text": [
      "Essa é a lista criada: [ 5 10 25 30 39]\n"
     ]
    }
   ],
   "source": [
    "dados = np.array([5, 10, 25, 30, 39])\n",
    "print(f\"Essa é a lista criada: {dados}\")"
   ]
  },
  {
   "cell_type": "code",
   "execution_count": 58,
   "metadata": {},
   "outputs": [
    {
     "name": "stdout",
     "output_type": "stream",
     "text": [
      "Essa é a média da lista: 21.8\n"
     ]
    }
   ],
   "source": [
    "media_dados = np.mean(dados)\n",
    "print(f\"Essa é a média da lista: {media_dados}\")"
   ]
  },
  {
   "cell_type": "code",
   "execution_count": 59,
   "metadata": {},
   "outputs": [
    {
     "name": "stdout",
     "output_type": "stream",
     "text": [
      "Mediana da lista: 25.0\n"
     ]
    }
   ],
   "source": [
    "mediana_dados = np.median(dados)\n",
    "print(f\"Mediana da lista: {mediana_dados}\")"
   ]
  },
  {
   "cell_type": "code",
   "execution_count": 60,
   "metadata": {},
   "outputs": [
    {
     "name": "stdout",
     "output_type": "stream",
     "text": [
      "Moda da lista: 5\n"
     ]
    }
   ],
   "source": [
    "contagem_dados = np.bincount(dados)\n",
    "moda_dados = np.argmax(contagem_dados)\n",
    "print(f\"Moda da lista: {moda_dados}\")"
   ]
  },
  {
   "cell_type": "code",
   "execution_count": 61,
   "metadata": {},
   "outputs": [
    {
     "name": "stdout",
     "output_type": "stream",
     "text": [
      "Variância da lista: 158.95999999999998\n"
     ]
    }
   ],
   "source": [
    "variancia_dados = np.var(dados)\n",
    "print(f\"Variância da lista: {variancia_dados}\")"
   ]
  },
  {
   "cell_type": "code",
   "execution_count": 62,
   "metadata": {},
   "outputs": [
    {
     "name": "stdout",
     "output_type": "stream",
     "text": [
      "Desvio Padrão da lista: 12.607934009979589\n"
     ]
    }
   ],
   "source": [
    "desvio_dados = np.std(dados)\n",
    "print(f\"Desvio Padrão da lista: {desvio_dados}\")"
   ]
  },
  {
   "cell_type": "code",
   "execution_count": 64,
   "metadata": {},
   "outputs": [
    {
     "name": "stdout",
     "output_type": "stream",
     "text": [
      "1. Essa é a lista criada: [ 5 10 25 30 39]\n",
      "2. Média dos dados: 21.8 \n",
      "3. Mediana dos dados 25.0 \n",
      "4. Moda da lista 5 \n",
      "5. Variancia da lista 158.95999999999998 \n",
      "6. Desvio da lista 12.607934009979589\n"
     ]
    }
   ],
   "source": [
    "print(f\"1. Essa é a lista criada: {dados}\\n2. Média dos dados: {media_dados} \\n3. Mediana dos dados {mediana_dados} \\n4. Moda da lista {moda_dados} \\n5. Variancia da lista {variancia_dados} \\n6. Desvio da lista {desvio_dados}\")"
   ]
  },
  {
   "cell_type": "markdown",
   "metadata": {},
   "source": [
    "Exercicio 2: Determine qual tipo de dado (quantitativo, ou qualitativo)\n",
    "\n",
    "cor do carro: \n",
    "altura de uma pessoa\n",
    "numero de alunos em uma sala de aula\n",
    "temperatura de um ambiente"
   ]
  },
  {
   "cell_type": "markdown",
   "metadata": {},
   "source": [
    "Pandas"
   ]
  },
  {
   "cell_type": "code",
   "execution_count": 72,
   "metadata": {},
   "outputs": [
    {
     "name": "stdout",
     "output_type": "stream",
     "text": [
      "Esse é o DataFrame:\n"
     ]
    },
    {
     "data": {
      "text/html": [
       "<div>\n",
       "<style scoped>\n",
       "    .dataframe tbody tr th:only-of-type {\n",
       "        vertical-align: middle;\n",
       "    }\n",
       "\n",
       "    .dataframe tbody tr th {\n",
       "        vertical-align: top;\n",
       "    }\n",
       "\n",
       "    .dataframe thead th {\n",
       "        text-align: right;\n",
       "    }\n",
       "</style>\n",
       "<table border=\"1\" class=\"dataframe\">\n",
       "  <thead>\n",
       "    <tr style=\"text-align: right;\">\n",
       "      <th></th>\n",
       "      <th>Nome</th>\n",
       "      <th>Idade</th>\n",
       "    </tr>\n",
       "  </thead>\n",
       "  <tbody>\n",
       "    <tr>\n",
       "      <th>0</th>\n",
       "      <td>Alice</td>\n",
       "      <td>25</td>\n",
       "    </tr>\n",
       "    <tr>\n",
       "      <th>1</th>\n",
       "      <td>Bob</td>\n",
       "      <td>30</td>\n",
       "    </tr>\n",
       "    <tr>\n",
       "      <th>2</th>\n",
       "      <td>Charlie</td>\n",
       "      <td>35</td>\n",
       "    </tr>\n",
       "  </tbody>\n",
       "</table>\n",
       "</div>"
      ],
      "text/plain": [
       "      Nome  Idade\n",
       "0    Alice     25\n",
       "1      Bob     30\n",
       "2  Charlie     35"
      ]
     },
     "execution_count": 72,
     "metadata": {},
     "output_type": "execute_result"
    }
   ],
   "source": [
    "df = pd.DataFrame({'Nome': ['Alice', 'Bob', 'Charlie'], 'Idade': [25, 30, 35]})\n",
    "print(f\"Esse é o DataFrame:\")\n",
    "df"
   ]
  },
  {
   "cell_type": "markdown",
   "metadata": {},
   "source": [
    "Acessando colunas: df['Nome']"
   ]
  },
  {
   "cell_type": "code",
   "execution_count": 82,
   "metadata": {},
   "outputs": [
    {
     "name": "stdout",
     "output_type": "stream",
     "text": [
      " Essa é a coluna nome:\n",
      "0      Alice\n",
      "1        Bob\n",
      "2    Charlie\n",
      "Name: Nome, dtype: object\n"
     ]
    }
   ],
   "source": [
    "print(f\" Essa é a coluna nome:\\n{df['Nome']}\")"
   ]
  },
  {
   "cell_type": "markdown",
   "metadata": {},
   "source": [
    "Calculando a média de uma coluna: df['Idade'].mean()"
   ]
  },
  {
   "cell_type": "code",
   "execution_count": 84,
   "metadata": {},
   "outputs": [
    {
     "name": "stdout",
     "output_type": "stream",
     "text": [
      "Essa é a media da coluna idade: 30.0\n"
     ]
    }
   ],
   "source": [
    "print(f\"Essa é a media da coluna idade: {df['Idade'].mean()}\")"
   ]
  },
  {
   "cell_type": "markdown",
   "metadata": {},
   "source": [
    "Filtrando linhas: df[df['Idade'] > 30]"
   ]
  },
  {
   "cell_type": "code",
   "execution_count": 87,
   "metadata": {},
   "outputs": [
    {
     "name": "stdout",
     "output_type": "stream",
     "text": [
      "Essas são as pessoas que correspondem ao filtro maior que 30:\n",
      "      Nome  Idade\n",
      "2  Charlie     35\n"
     ]
    }
   ],
   "source": [
    "print(f\"Essas são as pessoas que correspondem ao filtro maior que 30:\\n{df[df['Idade'] > 30]}\")"
   ]
  },
  {
   "cell_type": "markdown",
   "metadata": {},
   "source": [
    "Probabilidade com Python"
   ]
  },
  {
   "cell_type": "code",
   "execution_count": 88,
   "metadata": {},
   "outputs": [],
   "source": [
    "import random"
   ]
  },
  {
   "cell_type": "code",
   "execution_count": 89,
   "metadata": {},
   "outputs": [
    {
     "name": "stdout",
     "output_type": "stream",
     "text": [
      "Coroa\n"
     ]
    }
   ],
   "source": [
    "moeda = random.choice(['Cara', 'Coroa'])\n",
    "print(moeda)"
   ]
  },
  {
   "cell_type": "code",
   "execution_count": 90,
   "metadata": {},
   "outputs": [
    {
     "name": "stdout",
     "output_type": "stream",
     "text": [
      "Cara\n"
     ]
    }
   ],
   "source": [
    "moeda = np.random.choice(['Cara', 'Coroa'])\n",
    "print(moeda)"
   ]
  },
  {
   "cell_type": "markdown",
   "metadata": {},
   "source": [
    "Cálculo de Probabilidade com Funções da Biblioteca NumPy"
   ]
  },
  {
   "cell_type": "code",
   "execution_count": 91,
   "metadata": {},
   "outputs": [
    {
     "name": "stdout",
     "output_type": "stream",
     "text": [
      "[1 2 3 4 5 6]\n"
     ]
    }
   ],
   "source": [
    "# Números possíveis ao lançar um dado\n",
    "n = np.arange(1, 7)\n",
    "print(n)"
   ]
  },
  {
   "cell_type": "code",
   "execution_count": 92,
   "metadata": {},
   "outputs": [
    {
     "name": "stdout",
     "output_type": "stream",
     "text": [
      "[2 4 6]\n"
     ]
    }
   ],
   "source": [
    "# Números pares entre os possíveis números\n",
    "n_pares = n[n%2 == 0]\n",
    "print(n_pares)"
   ]
  },
  {
   "cell_type": "code",
   "execution_count": 93,
   "metadata": {},
   "outputs": [
    {
     "name": "stdout",
     "output_type": "stream",
     "text": [
      "0.5\n"
     ]
    }
   ],
   "source": [
    "# Probabilidade de obter um número par\n",
    "probabilidade = len(n_pares)/len(n)\n",
    "print(probabilidade)"
   ]
  },
  {
   "cell_type": "markdown",
   "metadata": {},
   "source": [
    "Criação de Gráficos de Probabilidade com Matplotlib"
   ]
  },
  {
   "cell_type": "markdown",
   "metadata": {},
   "source": [
    "# Distribuição de probabilidade de um dado de seis faces"
   ]
  },
  {
   "cell_type": "code",
   "execution_count": 95,
   "metadata": {},
   "outputs": [
    {
     "data": {
      "image/png": "[encoded data removed]",
      "text/plain": [
       "<Figure size 640x480 with 1 Axes>"
      ]
     },
     "metadata": {},
     "output_type": "display_data"
    }
   ],
   "source": [
    "probabilidade = np.ones(6)/6\n",
    "plt.bar(np.arange(1,7), probabilidade)\n",
    "plt.xlabel('Faces do Dado')\n",
    "plt.ylabel('Probabilidade')\n",
    "plt.title('Distribuição de Probabilidade de um Dado')\n",
    "plt.show()"
   ]
  },
  {
   "cell_type": "code",
   "execution_count": 96,
   "metadata": {},
   "outputs": [
    {
     "name": "stdout",
     "output_type": "stream",
     "text": [
      "4\n",
      "3\n",
      "3\n",
      "2\n",
      "3\n",
      "6\n",
      "3\n",
      "2\n",
      "1\n",
      "3\n",
      "2\n",
      "1\n",
      "2\n",
      "3\n",
      "1\n",
      "5\n",
      "6\n",
      "5\n",
      "3\n",
      "4\n",
      "1\n",
      "2\n",
      "1\n",
      "1\n",
      "2\n",
      "1\n",
      "1\n",
      "4\n",
      "6\n",
      "4\n",
      "2\n",
      "1\n",
      "4\n",
      "5\n",
      "2\n",
      "4\n",
      "4\n",
      "1\n",
      "2\n",
      "5\n",
      "4\n",
      "1\n",
      "6\n",
      "6\n",
      "1\n",
      "3\n",
      "6\n",
      "1\n",
      "6\n",
      "4\n",
      "1\n",
      "1\n",
      "4\n",
      "2\n",
      "1\n",
      "2\n",
      "1\n",
      "5\n",
      "5\n",
      "5\n",
      "5\n",
      "5\n",
      "6\n",
      "3\n",
      "4\n",
      "4\n",
      "2\n",
      "5\n",
      "4\n",
      "2\n",
      "6\n",
      "4\n",
      "4\n",
      "1\n",
      "1\n",
      "5\n",
      "1\n",
      "5\n",
      "2\n",
      "3\n",
      "6\n",
      "3\n",
      "1\n",
      "3\n",
      "2\n",
      "3\n",
      "2\n",
      "6\n",
      "2\n",
      "6\n",
      "2\n",
      "5\n",
      "5\n",
      "2\n",
      "1\n",
      "1\n",
      "3\n",
      "5\n",
      "5\n",
      "1\n"
     ]
    }
   ],
   "source": [
    "import random\n",
    "\n",
    "# Simulação de 100 lançamentos de um dado\n",
    "resultados = [] #lista vazia\n",
    "for _ in range(100): #loop 100x\n",
    "  resultado = random.randint(1, 6) #1 a 6\n",
    "  resultados.append(resultado) #lista de resultados\n",
    "\n",
    "\n",
    "  print(resultado)"
   ]
  },
  {
   "cell_type": "code",
   "execution_count": 97,
   "metadata": {},
   "outputs": [
    {
     "name": "stdout",
     "output_type": "stream",
     "text": [
      "Soma das probabilidades: 0.6249999999999999\n"
     ]
    },
    {
     "data": {
      "image/png": "[encoded data removed]",
      "text/plain": [
       "<Figure size 640x480 with 1 Axes>"
      ]
     },
     "metadata": {},
     "output_type": "display_data"
    }
   ],
   "source": [
    "import matplotlib.pyplot as plt\n",
    "import numpy as np\n",
    "\n",
    "# Definindo os valores para o gráfico\n",
    "naipes = ['Copas', 'Ouros', 'Paus', 'Espadas']\n",
    "valores = ['A', '2', '3', '4', '5', '6', '7', '8', '9', '10', 'J', 'Q', 'K']\n",
    "\n",
    "# Definindo as probabilidades para cada carta\n",
    "probabilidades = []\n",
    "for naipe in naipes:\n",
    "    for valor in valores:\n",
    "        if naipe == 'Copas':\n",
    "            probabilidades.append(2/104)  # As cartas de copas têm o dobro da probabilidade\n",
    "        else:\n",
    "            probabilidades.append(1/104)  # As outras cartas têm a probabilidade normal\n",
    "\n",
    "# Verificando se a soma das probabilidades é 1\n",
    "print(f\"Soma das probabilidades: {np.sum(probabilidades)}\")  # Deve ser 1\n",
    "\n",
    "# Criando o gráfico de barras\n",
    "plt.bar(range(52), probabilidades)\n",
    "plt.xticks(range(52), [f\"{valor} de {naipe}\" for naipe in naipes for valor in valores])\n",
    "plt.xlabel('Cartas')\n",
    "plt.ylabel('Probabilidade')\n",
    "plt.title('Distribuição de Probabilidade de Cartas em um Baralho')\n",
    "plt.xticks(rotation=90)  # Rotaciona os labels do eixo x\n",
    "plt.tight_layout()  # Ajusta o layout do gráfico\n",
    "plt.show()"
   ]
  }
 ],
 "metadata": {
  "kernelspec": {
   "display_name": "Python 3",
   "language": "python",
   "name": "python3"
  },
  "language_info": {
   "codemirror_mode": {
    "name": "ipython",
    "version": 3
   },
   "file_extension": ".py",
   "mimetype": "text/x-python",
   "name": "python",
   "nbconvert_exporter": "python",
   "pygments_lexer": "ipython3",
   "version": "3.10.11"
  }
 },
 "nbformat": 4,
 "nbformat_minor": 2
}
