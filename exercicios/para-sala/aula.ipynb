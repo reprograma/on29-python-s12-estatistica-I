{
 "cells": [
  {
   "cell_type": "code",
   "execution_count": 7,
   "metadata": {},
   "outputs": [],
   "source": [
    "import pandas as pd\n",
    "import numpy as np\n",
    "import matplotlib as mp\n",
    "import seaborn as sb"
   ]
  },
  {
   "cell_type": "code",
   "execution_count": 8,
   "metadata": {},
   "outputs": [
    {
     "name": "stdout",
     "output_type": "stream",
     "text": [
      "[ 5 10 25 30 39]\n"
     ]
    }
   ],
   "source": [
    "arr = np.array([5,10,25,30,39])\n",
    "print (arr)"
   ]
  },
  {
   "cell_type": "code",
   "execution_count": 9,
   "metadata": {},
   "outputs": [
    {
     "name": "stdout",
     "output_type": "stream",
     "text": [
      "21.8\n"
     ]
    }
   ],
   "source": [
    "arr = np.array([5,10,25,30,39])\n",
    "media = np.mean(arr)\n",
    "print(media)"
   ]
  },
  {
   "cell_type": "code",
   "execution_count": 12,
   "metadata": {},
   "outputs": [
    {
     "name": "stdout",
     "output_type": "stream",
     "text": [
      "25.0\n"
     ]
    }
   ],
   "source": [
    "arr = np.array([5,10,25,30,39])\n",
    "mediana = np.median(arr)\n",
    "print(mediana)"
   ]
  },
  {
   "cell_type": "code",
   "execution_count": 14,
   "metadata": {},
   "outputs": [
    {
     "name": "stdout",
     "output_type": "stream",
     "text": [
      "10\n"
     ]
    }
   ],
   "source": [
    "arr = np.array([14,10,25,30,39])\n",
    "contagem = np.bincount(arr)\n",
    "moda = np.argmax(contagem)\n",
    "print(moda)"
   ]
  },
  {
   "cell_type": "code",
   "execution_count": 10,
   "metadata": {},
   "outputs": [
    {
     "name": "stdout",
     "output_type": "stream",
     "text": [
      "158.95999999999998\n"
     ]
    }
   ],
   "source": [
    "arr = np.array([5,10,25,30,39])\n",
    "variancia = np.var(arr)\n",
    "print (variancia)"
   ]
  },
  {
   "cell_type": "code",
   "execution_count": 13,
   "metadata": {},
   "outputs": [
    {
     "name": "stdout",
     "output_type": "stream",
     "text": [
      "12.607934009979589\n"
     ]
    }
   ],
   "source": [
    "arr = np.array([5,10,25,30,39])\n",
    "desvio_padrao = np.std(arr)\n",
    "print(desvio_padrao)"
   ]
  }
 ],
 "metadata": {
  "kernelspec": {
   "display_name": "Python 3",
   "language": "python",
   "name": "python3"
  },
  "language_info": {
   "codemirror_mode": {
    "name": "ipython",
    "version": 3
   },
   "file_extension": ".py",
   "mimetype": "text/x-python",
   "name": "python",
   "nbconvert_exporter": "python",
   "pygments_lexer": "ipython3",
   "version": "3.12.3"
  }
 },
 "nbformat": 4,
 "nbformat_minor": 2
}
