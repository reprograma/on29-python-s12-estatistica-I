{
 "cells": [
  {
   "cell_type": "code",
   "execution_count": 1,
   "metadata": {},
   "outputs": [
    {
     "name": "stdout",
     "output_type": "stream",
     "text": [
      "        Aluna  Idade        Curso        Cidade  Nota Final  Frequência  \\\n",
      "0         Ana     42  Estatística     Fortaleza        3.09       99.46   \n",
      "1     Beatriz     34  Estatística     Fortaleza        9.44       93.90   \n",
      "2       Carla     34       Inglês        Manaus        3.99       78.41   \n",
      "3     Daniela     45       Inglês  Porto alegre        5.25       87.37   \n",
      "4     Eduarda     47  Estatística     São Paulo        2.45       90.24   \n",
      "5    Fernanda     48          ADS     Fortaleza        5.15       98.64   \n",
      "6    Gabriela     18          ADS     São Paulo        6.68       96.04   \n",
      "7      Helena     37  Estatística     Fortaleza        9.02       99.43   \n",
      "8     Isabela     29  Estatística      Salvador        6.33       92.05   \n",
      "9     Juliana     26       Inglês      Salvador        9.99       96.04   \n",
      "10    Larissa     42       Inglês        Manaus        7.95       79.03   \n",
      "11    Mariana     43  Estatística        Manaus        6.89       86.40   \n",
      "12    Natália     41       Inglês        Manaus        0.11       91.74   \n",
      "13     Olívia     46          ADS     Fortaleza        5.23       91.31   \n",
      "14   Patrícia     46  Estatística     Fortaleza        7.51       81.85   \n",
      "15     Raquel     26          ADS     São Paulo        8.26       96.20   \n",
      "16      Sofia     40          ADS        Recife        0.92       86.13   \n",
      "17    Tatiana     43  Estatística     Fortaleza        9.25       81.19   \n",
      "18  Valentina     48  Estatística        Recife        1.09       81.16   \n",
      "19     Yasmin     38          ADS      Salvador        2.41       76.95   \n",
      "\n",
      "   Status do Curso  \n",
      "0        Reprovada  \n",
      "1         Aprovada  \n",
      "2        Reprovada  \n",
      "3        Reprovada  \n",
      "4        Reprovada  \n",
      "5        Reprovada  \n",
      "6        Reprovada  \n",
      "7         Aprovada  \n",
      "8        Reprovada  \n",
      "9         Aprovada  \n",
      "10        Aprovada  \n",
      "11       Reprovada  \n",
      "12       Reprovada  \n",
      "13       Reprovada  \n",
      "14        Aprovada  \n",
      "15        Aprovada  \n",
      "16       Reprovada  \n",
      "17        Aprovada  \n",
      "18       Reprovada  \n",
      "19       Reprovada  \n"
     ]
    }
   ],
   "source": [
    "import pandas as pd\n",
    "import numpy as np\n",
    "\n",
    "# Lista de nomes das alunas\n",
    "nomes_alunas = [\n",
    "    'Ana', 'Beatriz', 'Carla', 'Daniela', 'Eduarda', 'Fernanda', 'Gabriela',\n",
    "    'Helena', 'Isabela', 'Juliana', 'Larissa', 'Mariana', 'Natália',\n",
    "    'Olívia', 'Patrícia', 'Raquel', 'Sofia', 'Tatiana', 'Valentina', 'Yasmin'\n",
    "]\n",
    "\n",
    "# Gerando dados aleatórios para as outras colunas\n",
    "idades = np.random.randint(18, 50, size=20)\n",
    "cursos = np.random.choice(['ADS', 'Inglês', 'Estatística', 'Python'], size=20)\n",
    "cidades = np.random.choice(['Porto alegre', 'São Paulo', 'Recife', 'Fortaleza', 'Manaus', 'Salvador'], size=20)\n",
    "notas_finais = np.random.uniform(0, 10, size=20).round(2)\n",
    "frequencias = np.random.uniform(75, 100, size=20).round(2)\n",
    "status_do_curso = ['Aprovada' if nota >= 7 else 'Reprovada' for nota in notas_finais]\n",
    "\n",
    "# Criando o DataFrame\n",
    "df = pd.DataFrame({\n",
    "    'Aluna': nomes_alunas,\n",
    "    'Idade': idades,\n",
    "    'Curso': cursos,\n",
    "    'Cidade': cidades,\n",
    "    'Nota Final': notas_finais,\n",
    "    'Frequência': frequencias,\n",
    "    'Status do Curso': status_do_curso\n",
    "})\n",
    "\n",
    "print(df)"
   ]
  },
  {
   "cell_type": "code",
   "execution_count": 2,
   "metadata": {},
   "outputs": [
    {
     "data": {
      "text/html": [
       "<div>\n",
       "<style scoped>\n",
       "    .dataframe tbody tr th:only-of-type {\n",
       "        vertical-align: middle;\n",
       "    }\n",
       "\n",
       "    .dataframe tbody tr th {\n",
       "        vertical-align: top;\n",
       "    }\n",
       "\n",
       "    .dataframe thead th {\n",
       "        text-align: right;\n",
       "    }\n",
       "</style>\n",
       "<table border=\"1\" class=\"dataframe\">\n",
       "  <thead>\n",
       "    <tr style=\"text-align: right;\">\n",
       "      <th></th>\n",
       "      <th>Aluna</th>\n",
       "      <th>Idade</th>\n",
       "      <th>Curso</th>\n",
       "      <th>Cidade</th>\n",
       "      <th>Nota Final</th>\n",
       "      <th>Frequência</th>\n",
       "      <th>Status do Curso</th>\n",
       "    </tr>\n",
       "  </thead>\n",
       "  <tbody>\n",
       "    <tr>\n",
       "      <th>0</th>\n",
       "      <td>Ana</td>\n",
       "      <td>42</td>\n",
       "      <td>Estatística</td>\n",
       "      <td>Fortaleza</td>\n",
       "      <td>3.09</td>\n",
       "      <td>99.46</td>\n",
       "      <td>Reprovada</td>\n",
       "    </tr>\n",
       "    <tr>\n",
       "      <th>1</th>\n",
       "      <td>Beatriz</td>\n",
       "      <td>34</td>\n",
       "      <td>Estatística</td>\n",
       "      <td>Fortaleza</td>\n",
       "      <td>9.44</td>\n",
       "      <td>93.90</td>\n",
       "      <td>Aprovada</td>\n",
       "    </tr>\n",
       "    <tr>\n",
       "      <th>2</th>\n",
       "      <td>Carla</td>\n",
       "      <td>34</td>\n",
       "      <td>Inglês</td>\n",
       "      <td>Manaus</td>\n",
       "      <td>3.99</td>\n",
       "      <td>78.41</td>\n",
       "      <td>Reprovada</td>\n",
       "    </tr>\n",
       "    <tr>\n",
       "      <th>3</th>\n",
       "      <td>Daniela</td>\n",
       "      <td>45</td>\n",
       "      <td>Inglês</td>\n",
       "      <td>Porto alegre</td>\n",
       "      <td>5.25</td>\n",
       "      <td>87.37</td>\n",
       "      <td>Reprovada</td>\n",
       "    </tr>\n",
       "  </tbody>\n",
       "</table>\n",
       "</div>"
      ],
      "text/plain": [
       "     Aluna  Idade        Curso        Cidade  Nota Final  Frequência  \\\n",
       "0      Ana     42  Estatística     Fortaleza        3.09       99.46   \n",
       "1  Beatriz     34  Estatística     Fortaleza        9.44       93.90   \n",
       "2    Carla     34       Inglês        Manaus        3.99       78.41   \n",
       "3  Daniela     45       Inglês  Porto alegre        5.25       87.37   \n",
       "\n",
       "  Status do Curso  \n",
       "0       Reprovada  \n",
       "1        Aprovada  \n",
       "2       Reprovada  \n",
       "3       Reprovada  "
      ]
     },
     "metadata": {},
     "output_type": "display_data"
    }
   ],
   "source": [
    "display(df.head(4))"
   ]
  },
  {
   "cell_type": "code",
   "execution_count": 3,
   "metadata": {},
   "outputs": [],
   "source": [
    "df.to_csv('dados_alunas', index = False)"
   ]
  },
  {
   "cell_type": "code",
   "execution_count": 7,
   "metadata": {},
   "outputs": [
    {
     "name": "stdout",
     "output_type": "stream",
     "text": [
      "A média das notas é: 5.6 \n"
     ]
    }
   ],
   "source": [
    "media_notas = np.mean(df['Nota Final'])\n",
    "media_notas = round(media_notas, 1)\n",
    "print(f\"A média das notas é: {media_notas} \")"
   ]
  },
  {
   "cell_type": "code",
   "execution_count": 9,
   "metadata": {},
   "outputs": [],
   "source": [
    "from scipy import statistics"
   ]
  },
  {
   "cell_type": "code",
   "execution_count": 13,
   "metadata": {},
   "outputs": [],
   "source": [
    "import statistics as sts"
   ]
  },
  {
   "cell_type": "code",
   "execution_count": 14,
   "metadata": {},
   "outputs": [
    {
     "name": "stdout",
     "output_type": "stream",
     "text": [
      "Moda: 3.09 \n"
     ]
    }
   ],
   "source": [
    "moda_notas = sts.mode(df['Nota Final'])\n",
    "print(f\"Moda: {moda_notas} \")"
   ]
  },
  {
   "cell_type": "code",
   "execution_count": 15,
   "metadata": {},
   "outputs": [
    {
     "data": {
      "text/plain": [
       "[(3.09, 1),\n",
       " (9.44, 1),\n",
       " (3.99, 1),\n",
       " (5.25, 1),\n",
       " (2.45, 1),\n",
       " (5.15, 1),\n",
       " (6.68, 1),\n",
       " (9.02, 1),\n",
       " (6.33, 1),\n",
       " (9.99, 1),\n",
       " (7.95, 1),\n",
       " (6.89, 1),\n",
       " (0.11, 1),\n",
       " (5.23, 1),\n",
       " (7.51, 1),\n",
       " (8.26, 1),\n",
       " (0.92, 1),\n",
       " (9.25, 1),\n",
       " (1.09, 1),\n",
       " (2.41, 1)]"
      ]
     },
     "execution_count": 15,
     "metadata": {},
     "output_type": "execute_result"
    }
   ],
   "source": [
    "#Para verificar as múltiplas modas, usamos Counter e observamos most_common\n",
    "from collections import Counter\n",
    "freq_lista = Counter(df['Nota Final'])\n",
    "freq_lista.most_common()"
   ]
  }
 ],
 "metadata": {
  "kernelspec": {
   "display_name": "Python 3",
   "language": "python",
   "name": "python3"
  },
  "language_info": {
   "codemirror_mode": {
    "name": "ipython",
    "version": 3
   },
   "file_extension": ".py",
   "mimetype": "text/x-python",
   "name": "python",
   "nbconvert_exporter": "python",
   "pygments_lexer": "ipython3",
   "version": "3.12.2"
  }
 },
 "nbformat": 4,
 "nbformat_minor": 2
}
