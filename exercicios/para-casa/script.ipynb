{
 "cells": [
  {
   "cell_type": "markdown",
   "metadata": {},
   "source": [
    "#### **Atividade: Semana 12 - Estatística**"
   ]
  },
  {
   "cell_type": "code",
   "execution_count": 9,
   "metadata": {},
   "outputs": [],
   "source": [
    "#Importando as bibliotecas\n",
    "\n",
    "import pandas as pd\n",
    "import matplotlib.pyplot as plt"
   ]
  },
  {
   "cell_type": "code",
   "execution_count": 10,
   "metadata": {},
   "outputs": [],
   "source": [
    "#Atribuindo os dados recebidos a um database\n",
    "\n",
    "dados_vendas = [\n",
    "    {\"Data da venda\": \"2023-01-01\", \"Valor da venda\": 100.00, \"Produto vendido\": \"Produto A\", \"Quantidade vendida\": 2, \"Método de pagamento\": \"Cartão\", \"Região de venda\": \"Centro\"},\n",
    "    {\"Data da venda\": \"2023-01-02\", \"Valor da venda\": 50.00, \"Produto vendido\": \"Produto B\", \"Quantidade vendida\": 1, \"Método de pagamento\": \"Dinheiro\", \"Região de venda\": \"Sul\"},\n",
    "    {\"Data da venda\": \"2023-01-03\", \"Valor da venda\": 120.00, \"Produto vendido\": \"Produto C\", \"Quantidade vendida\": 3, \"Método de pagamento\": \"Cartão\", \"Região de venda\": \"Norte\"},\n",
    "    {\"Data da venda\": \"2023-01-04\", \"Valor da venda\": 80.00, \"Produto vendido\": \"Produto A\", \"Quantidade vendida\": 2, \"Método de pagamento\": \"PIX\", \"Região de venda\": \"Leste\"},\n",
    "    {\"Data da venda\": \"2023-01-05\", \"Valor da venda\": 150.00, \"Produto vendido\": \"Produto B\", \"Quantidade vendida\": 2, \"Método de pagamento\": \"Cartão\", \"Região de venda\": \"Oeste\"},\n",
    "    {\"Data da venda\": \"2023-01-06\", \"Valor da venda\": 70.00, \"Produto vendido\": \"Produto C\", \"Quantidade vendida\": 1, \"Método de pagamento\": \"Dinheiro\", \"Região de venda\": \"Centro\"},\n",
    "    {\"Data da venda\": \"2023-01-07\", \"Valor da venda\": 90.00, \"Produto vendido\": \"Produto A\", \"Quantidade vendida\": 2, \"Método de pagamento\": \"PIX\", \"Região de venda\": \"Sul\"},\n",
    "    {\"Data da venda\": \"2023-01-08\", \"Valor da venda\": 110.00, \"Produto vendido\": \"Produto B\", \"Quantidade vendida\": 3, \"Método de pagamento\": \"Cartão\", \"Região de venda\": \"Norte\"},\n",
    "    {\"Data da venda\": \"2023-01-09\", \"Valor da venda\": 130.00, \"Produto vendido\": \"Produto C\", \"Quantidade vendida\": 2, \"Método de pagamento\": \"Dinheiro\", \"Região de venda\": \"Leste\"},\n",
    "    {\"Data da venda\": \"2023-01-10\", \"Valor da venda\": 100.00, \"Produto vendido\": \"Produto A\", \"Quantidade vendida\": 1, \"Método de pagamento\": \"Cartão\", \"Região de venda\": \"Oeste\"}\n",
    "]\n",
    "\n",
    "df = pd.DataFrame(dados_vendas)"
   ]
  },
  {
   "cell_type": "code",
   "execution_count": 11,
   "metadata": {},
   "outputs": [
    {
     "data": {
      "text/html": [
       "<div>\n",
       "<style scoped>\n",
       "    .dataframe tbody tr th:only-of-type {\n",
       "        vertical-align: middle;\n",
       "    }\n",
       "\n",
       "    .dataframe tbody tr th {\n",
       "        vertical-align: top;\n",
       "    }\n",
       "\n",
       "    .dataframe thead th {\n",
       "        text-align: right;\n",
       "    }\n",
       "</style>\n",
       "<table border=\"1\" class=\"dataframe\">\n",
       "  <thead>\n",
       "    <tr style=\"text-align: right;\">\n",
       "      <th></th>\n",
       "      <th>Data da venda</th>\n",
       "      <th>Valor da venda</th>\n",
       "      <th>Produto vendido</th>\n",
       "      <th>Quantidade vendida</th>\n",
       "      <th>Método de pagamento</th>\n",
       "      <th>Região de venda</th>\n",
       "    </tr>\n",
       "  </thead>\n",
       "  <tbody>\n",
       "    <tr>\n",
       "      <th>0</th>\n",
       "      <td>2023-01-01</td>\n",
       "      <td>100.0</td>\n",
       "      <td>Produto A</td>\n",
       "      <td>2</td>\n",
       "      <td>Cartão</td>\n",
       "      <td>Centro</td>\n",
       "    </tr>\n",
       "    <tr>\n",
       "      <th>1</th>\n",
       "      <td>2023-01-02</td>\n",
       "      <td>50.0</td>\n",
       "      <td>Produto B</td>\n",
       "      <td>1</td>\n",
       "      <td>Dinheiro</td>\n",
       "      <td>Sul</td>\n",
       "    </tr>\n",
       "    <tr>\n",
       "      <th>2</th>\n",
       "      <td>2023-01-03</td>\n",
       "      <td>120.0</td>\n",
       "      <td>Produto C</td>\n",
       "      <td>3</td>\n",
       "      <td>Cartão</td>\n",
       "      <td>Norte</td>\n",
       "    </tr>\n",
       "    <tr>\n",
       "      <th>3</th>\n",
       "      <td>2023-01-04</td>\n",
       "      <td>80.0</td>\n",
       "      <td>Produto A</td>\n",
       "      <td>2</td>\n",
       "      <td>PIX</td>\n",
       "      <td>Leste</td>\n",
       "    </tr>\n",
       "    <tr>\n",
       "      <th>4</th>\n",
       "      <td>2023-01-05</td>\n",
       "      <td>150.0</td>\n",
       "      <td>Produto B</td>\n",
       "      <td>2</td>\n",
       "      <td>Cartão</td>\n",
       "      <td>Oeste</td>\n",
       "    </tr>\n",
       "    <tr>\n",
       "      <th>5</th>\n",
       "      <td>2023-01-06</td>\n",
       "      <td>70.0</td>\n",
       "      <td>Produto C</td>\n",
       "      <td>1</td>\n",
       "      <td>Dinheiro</td>\n",
       "      <td>Centro</td>\n",
       "    </tr>\n",
       "    <tr>\n",
       "      <th>6</th>\n",
       "      <td>2023-01-07</td>\n",
       "      <td>90.0</td>\n",
       "      <td>Produto A</td>\n",
       "      <td>2</td>\n",
       "      <td>PIX</td>\n",
       "      <td>Sul</td>\n",
       "    </tr>\n",
       "    <tr>\n",
       "      <th>7</th>\n",
       "      <td>2023-01-08</td>\n",
       "      <td>110.0</td>\n",
       "      <td>Produto B</td>\n",
       "      <td>3</td>\n",
       "      <td>Cartão</td>\n",
       "      <td>Norte</td>\n",
       "    </tr>\n",
       "    <tr>\n",
       "      <th>8</th>\n",
       "      <td>2023-01-09</td>\n",
       "      <td>130.0</td>\n",
       "      <td>Produto C</td>\n",
       "      <td>2</td>\n",
       "      <td>Dinheiro</td>\n",
       "      <td>Leste</td>\n",
       "    </tr>\n",
       "    <tr>\n",
       "      <th>9</th>\n",
       "      <td>2023-01-10</td>\n",
       "      <td>100.0</td>\n",
       "      <td>Produto A</td>\n",
       "      <td>1</td>\n",
       "      <td>Cartão</td>\n",
       "      <td>Oeste</td>\n",
       "    </tr>\n",
       "  </tbody>\n",
       "</table>\n",
       "</div>"
      ],
      "text/plain": [
       "  Data da venda  Valor da venda Produto vendido  Quantidade vendida  \\\n",
       "0    2023-01-01           100.0       Produto A                   2   \n",
       "1    2023-01-02            50.0       Produto B                   1   \n",
       "2    2023-01-03           120.0       Produto C                   3   \n",
       "3    2023-01-04            80.0       Produto A                   2   \n",
       "4    2023-01-05           150.0       Produto B                   2   \n",
       "5    2023-01-06            70.0       Produto C                   1   \n",
       "6    2023-01-07            90.0       Produto A                   2   \n",
       "7    2023-01-08           110.0       Produto B                   3   \n",
       "8    2023-01-09           130.0       Produto C                   2   \n",
       "9    2023-01-10           100.0       Produto A                   1   \n",
       "\n",
       "  Método de pagamento Região de venda  \n",
       "0              Cartão          Centro  \n",
       "1            Dinheiro             Sul  \n",
       "2              Cartão           Norte  \n",
       "3                 PIX           Leste  \n",
       "4              Cartão           Oeste  \n",
       "5            Dinheiro          Centro  \n",
       "6                 PIX             Sul  \n",
       "7              Cartão           Norte  \n",
       "8            Dinheiro           Leste  \n",
       "9              Cartão           Oeste  "
      ]
     },
     "execution_count": 11,
     "metadata": {},
     "output_type": "execute_result"
    }
   ],
   "source": [
    "#Visualizando o dataframe\n",
    "\n",
    "df"
   ]
  },
  {
   "cell_type": "code",
   "execution_count": 12,
   "metadata": {},
   "outputs": [
    {
     "name": "stdout",
     "output_type": "stream",
     "text": [
      "Média: 100.0 \n",
      "Mediana: 100.0 \n",
      "Mínimo: 50.0 \n",
      "Máximo: 150.0 \n",
      "Desvio Padrão: 29.43920288775949\n"
     ]
    }
   ],
   "source": [
    "#Calculando média, mediana, mínimo, máximo e desvio padrão dos valores das vendas\n",
    "\n",
    "media = df['Valor da venda'].mean()\n",
    "mediana = df['Valor da venda'].median()\n",
    "minimo = df['Valor da venda'].min()\n",
    "maximo = df['Valor da venda'].max()\n",
    "desvio_padrao = df['Valor da venda'].std()\n",
    "\n",
    "print(f'Média: {media} \\nMediana: {mediana} \\nMínimo: {minimo} \\nMáximo: {maximo} \\nDesvio Padrão: {desvio_padrao}')"
   ]
  },
  {
   "cell_type": "code",
   "execution_count": 13,
   "metadata": {},
   "outputs": [
    {
     "data": {
      "text/plain": [
       "count     10.000000\n",
       "mean     100.000000\n",
       "std       29.439203\n",
       "min       50.000000\n",
       "25%       82.500000\n",
       "50%      100.000000\n",
       "75%      117.500000\n",
       "max      150.000000\n",
       "Name: Valor da venda, dtype: float64"
      ]
     },
     "execution_count": 13,
     "metadata": {},
     "output_type": "execute_result"
    }
   ],
   "source": [
    "#Exceto pela mediana, todos os outros dados estatísticos também poderiam ser encontrados no .describe() da coluna\n",
    "\n",
    "df['Valor da venda'].describe()"
   ]
  },
  {
   "cell_type": "code",
   "execution_count": 14,
   "metadata": {},
   "outputs": [
    {
     "data": {
      "text/plain": [
       "([<matplotlib.axis.YTick at 0x200b8741590>,\n",
       "  <matplotlib.axis.YTick at 0x200b873b310>],\n",
       " [Text(0, 1, '1'), Text(0, 2, '2')])"
      ]
     },
     "execution_count": 14,
     "metadata": {},
     "output_type": "execute_result"
    },
    {
     "data": {
      "image/png": "[encoded data removed]",
      "text/plain": [
       "<Figure size 640x480 with 1 Axes>"
      ]
     },
     "metadata": {},
     "output_type": "display_data"
    }
   ],
   "source": [
    "#Criando um histograma para visualizar a distribuição dos valores das vendas\n",
    "\n",
    "plt.hist(df['Valor da venda'], color='lightblue', edgecolor='grey')\n",
    "plt.title('Distribuição dos valores das vendas')\n",
    "plt.xlabel('Valor da(s) venda(s)')\n",
    "plt.ylabel('Quantidade de vendas')\n",
    "plt.xticks(range(50, 160, 10))\n",
    "plt.yticks([1, 2])"
   ]
  },
  {
   "cell_type": "markdown",
   "metadata": {},
   "source": [
    "##### **Relatório do Histograma**\n",
    "\n",
    "É possível verificar que, assim como podemos interpretar somente a partir da mediana dos dados (que vale 100.00), a quantidade de vendas abaixo de R$100 é similar à quantidade de vendas acima desse valor. \n",
    "\n",
    "Os valores recebidos são um tanto quanto simples, por isso os dados estatísticos são pouco surpreendentes e o desvio padrão relativamente baixo, já que, assim como analisado ao solicitarmos os valores máximo e mínimo da coluna, as vendas então todas dentro de um intervalo de R$100.00 (R$50.00-R$150.00)."
   ]
  }
 ],
 "metadata": {
  "kernelspec": {
   "display_name": "Python 3",
   "language": "python",
   "name": "python3"
  },
  "language_info": {
   "codemirror_mode": {
    "name": "ipython",
    "version": 3
   },
   "file_extension": ".py",
   "mimetype": "text/x-python",
   "name": "python",
   "nbconvert_exporter": "python",
   "pygments_lexer": "ipython3",
   "version": "3.11.9"
  }
 },
 "nbformat": 4,
 "nbformat_minor": 2
}
