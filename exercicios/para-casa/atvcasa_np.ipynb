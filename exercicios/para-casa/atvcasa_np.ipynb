{
 "cells": [
  {
   "cell_type": "markdown",
   "metadata": {},
   "source": [
    "### **Objetivo:** Realizar uma análise estatística descritiva e criar um histograma para visualizar a distribuição dos valores das vendas.\n",
    "\n",
    " *Descrição do Desafio:* Você trabalha em uma empresa de varejo e recebeu uma lista de vendas fictícias de diferentes produtos ao longo de vários meses. Seu objetivo é realizar uma análise estatística descritiva dos valores das vendas e criar um histograma para visualizar a distribuição desses valores.\n",
    "\n",
    "*Conjunto de Dados:* Os dados estão disponíveis em formato de lista de dicionários em Python e contêm as seguintes informações para cada venda:\n",
    "\n",
    "### Data da venda Valor da venda \n",
    "\n",
    "*Perguntas para Responder:*\n",
    "1.  Calcular a média\n",
    "2. mediana\n",
    "3. mínimo\n",
    "4. máximo\n",
    "5. desvio padrão dos valores das vendas.\n",
    "* Criar um histograma para visualizar a distribuição dos valores das vendas. \n",
    "\n",
    "*Entrega do Desafio:*\n",
    "Utilize a linguagem de programação Python para realizar a análise dos dados e criar o histograma. Prepare um relatório ou apresentação com suas descobertas e o histograma gerado. Envie seu código fonte, o relatório e a imagem do histograma para avaliação até o final da semana"
   ]
  },
  {
   "cell_type": "code",
   "execution_count": 1,
   "metadata": {},
   "outputs": [],
   "source": [
    "import numpy as np\n",
    "import matplotlib.pyplot as plt"
   ]
  },
  {
   "cell_type": "code",
   "execution_count": 2,
   "metadata": {},
   "outputs": [],
   "source": [
    "dados_vendas = [\n",
    "    {\"Data da venda\": \"2023-01-01\", \"Valor da venda\": 100.00, \"Produto vendido\": \"Produto A\", \"Quantidade vendida\": 2, \"Método de pagamento\": \"Cartão\", \"Região de venda\": \"Centro\"},\n",
    "    {\"Data da venda\": \"2023-01-02\", \"Valor da venda\": 50.00, \"Produto vendido\": \"Produto B\", \"Quantidade vendida\": 1, \"Método de pagamento\": \"Dinheiro\", \"Região de venda\": \"Sul\"},\n",
    "    {\"Data da venda\": \"2023-01-03\", \"Valor da venda\": 120.00, \"Produto vendido\": \"Produto C\", \"Quantidade vendida\": 3, \"Método de pagamento\": \"Cartão\", \"Região de venda\": \"Norte\"},\n",
    "    {\"Data da venda\": \"2023-01-04\", \"Valor da venda\": 80.00, \"Produto vendido\": \"Produto A\", \"Quantidade vendida\": 2, \"Método de pagamento\": \"PIX\", \"Região de venda\": \"Leste\"},\n",
    "    {\"Data da venda\": \"2023-01-05\", \"Valor da venda\": 150.00, \"Produto vendido\": \"Produto B\", \"Quantidade vendida\": 2, \"Método de pagamento\": \"Cartão\", \"Região de venda\": \"Oeste\"},\n",
    "    {\"Data da venda\": \"2023-01-06\", \"Valor da venda\": 70.00, \"Produto vendido\": \"Produto C\", \"Quantidade vendida\": 1, \"Método de pagamento\": \"Dinheiro\", \"Região de venda\": \"Centro\"},\n",
    "    {\"Data da venda\": \"2023-01-07\", \"Valor da venda\": 90.00, \"Produto vendido\": \"Produto A\", \"Quantidade vendida\": 2, \"Método de pagamento\": \"PIX\", \"Região de venda\": \"Sul\"},\n",
    "    {\"Data da venda\": \"2023-01-08\", \"Valor da venda\": 110.00, \"Produto vendido\": \"Produto B\", \"Quantidade vendida\": 3, \"Método de pagamento\": \"Cartão\", \"Região de venda\": \"Norte\"},\n",
    "    {\"Data da venda\": \"2023-01-09\", \"Valor da venda\": 130.00, \"Produto vendido\": \"Produto C\", \"Quantidade vendida\": 2, \"Método de pagamento\": \"Dinheiro\", \"Região de venda\": \"Leste\"},\n",
    "    {\"Data da venda\": \"2023-01-10\", \"Valor da venda\": 100.00, \"Produto vendido\": \"Produto A\", \"Quantidade vendida\": 1, \"Método de pagamento\": \"Cartão\", \"Região de venda\": \"Oeste\"}\n",
    "]"
   ]
  },
  {
   "cell_type": "code",
   "execution_count": 13,
   "metadata": {},
   "outputs": [],
   "source": [
    "data_vendas = np.array([vendas[\"Data da venda\"] for vendas in dados_vendas])\n",
    "valores_vendas = np.array([vendas[\"Valor da venda\"] for vendas in dados_vendas])\n",
    "produto_vendido = np.array([vendas[\"Produto vendido\"] for vendas in dados_vendas])\n",
    "quatidade_vendida = np.array([vendas[\"Quantidade vendida\"] for vendas in dados_vendas])\n",
    "pagamento = np.array([vendas[\"Método de pagamento\"] for vendas in dados_vendas])\n",
    "regiao = np.array([vendas[\"Região de venda\"] for vendas in dados_vendas])"
   ]
  },
  {
   "cell_type": "markdown",
   "metadata": {},
   "source": [
    "1.  Calcular a média"
   ]
  },
  {
   "cell_type": "code",
   "execution_count": 14,
   "metadata": {},
   "outputs": [],
   "source": [
    "media = np.mean(valores_vendas)"
   ]
  },
  {
   "cell_type": "markdown",
   "metadata": {},
   "source": [
    "2. mediana"
   ]
  },
  {
   "cell_type": "code",
   "execution_count": 15,
   "metadata": {},
   "outputs": [],
   "source": [
    "mediana = np.median(valores_vendas)"
   ]
  },
  {
   "cell_type": "markdown",
   "metadata": {},
   "source": [
    "3. mínimo\n",
    "4. máximo"
   ]
  },
  {
   "cell_type": "code",
   "execution_count": 21,
   "metadata": {},
   "outputs": [],
   "source": [
    "min = np.min(valores_vendas)\n",
    "max = np.max(valores_vendas)"
   ]
  },
  {
   "cell_type": "markdown",
   "metadata": {},
   "source": [
    "5. desvio padrão dos valores das vendas."
   ]
  },
  {
   "cell_type": "code",
   "execution_count": 17,
   "metadata": {},
   "outputs": [],
   "source": [
    "desvio = np.std(valores_vendas)"
   ]
  },
  {
   "cell_type": "code",
   "execution_count": 24,
   "metadata": {},
   "outputs": [
    {
     "name": "stdout",
     "output_type": "stream",
     "text": [
      "1. Média das vendas: R$100.00\n",
      "2. Mediana das vendas: R$100.00\n",
      "3. Venda Minima: R$50.00\n",
      "4. Venda Máxima: R$ 150.00 \n",
      "5. Desvio Padrão: R$27.93\n"
     ]
    }
   ],
   "source": [
    "print(f\"1. Média das vendas: R${media:.2f}\\n2. Mediana das vendas: R${mediana:.2f}\\n3. Venda Minima: R${min:.2f}\\n4. Venda Máxima: R$ {max:.2f} \\n5. Desvio Padrão: R${desvio:.2f}\")"
   ]
  },
  {
   "cell_type": "code",
   "execution_count": 27,
   "metadata": {},
   "outputs": [
    {
     "data": {
      "image/png": "[encoded data removed]",
      "text/plain": [
       "<Figure size 1000x600 with 1 Axes>"
      ]
     },
     "metadata": {},
     "output_type": "display_data"
    }
   ],
   "source": [
    "# Criação do histograma\n",
    "plt.figure(figsize=(10, 6))\n",
    "plt.hist(valores_vendas, bins=6, edgecolor='black', color='skyblue')\n",
    "\n",
    "# Configuração dos títulos e rótulos\n",
    "plt.title('Distribuição dos Valores das Vendas')\n",
    "plt.xlabel('Valor da Venda')\n",
    "plt.ylabel('Frequência')\n",
    "\n",
    "plt.show()"
   ]
  }
 ],
 "metadata": {
  "kernelspec": {
   "display_name": "Python 3",
   "language": "python",
   "name": "python3"
  },
  "language_info": {
   "codemirror_mode": {
    "name": "ipython",
    "version": 3
   },
   "file_extension": ".py",
   "mimetype": "text/x-python",
   "name": "python",
   "nbconvert_exporter": "python",
   "pygments_lexer": "ipython3",
   "version": "3.10.11"
  }
 },
 "nbformat": 4,
 "nbformat_minor": 2
}
