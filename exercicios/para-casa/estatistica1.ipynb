{
 "cells": [
  {
   "cell_type": "markdown",
   "metadata": {},
   "source": [
    "# Importando bibliotecas"
   ]
  },
  {
   "cell_type": "code",
   "execution_count": 2,
   "metadata": {},
   "outputs": [],
   "source": [
    "import pandas as pd\n",
    "import numpy as np"
   ]
  },
  {
   "cell_type": "code",
   "execution_count": 3,
   "metadata": {},
   "outputs": [],
   "source": [
    "import matplotlib.pyplot as plt"
   ]
  },
  {
   "cell_type": "markdown",
   "metadata": {},
   "source": [
    "# Base de dados"
   ]
  },
  {
   "cell_type": "code",
   "execution_count": 1,
   "metadata": {},
   "outputs": [],
   "source": [
    "dados_vendas = [\n",
    "    {\"Data da venda\": \"2023-01-01\", \"Valor da venda\": 100.00, \"Produto vendido\": \"Produto A\", \"Quantidade vendida\": 2, \"Método de pagamento\": \"Cartão\", \"Região de venda\": \"Centro\"},\n",
    "    {\"Data da venda\": \"2023-01-02\", \"Valor da venda\": 50.00, \"Produto vendido\": \"Produto B\", \"Quantidade vendida\": 1, \"Método de pagamento\": \"Dinheiro\", \"Região de venda\": \"Sul\"},\n",
    "    {\"Data da venda\": \"2023-01-03\", \"Valor da venda\": 120.00, \"Produto vendido\": \"Produto C\", \"Quantidade vendida\": 3, \"Método de pagamento\": \"Cartão\", \"Região de venda\": \"Norte\"},\n",
    "    {\"Data da venda\": \"2023-01-04\", \"Valor da venda\": 80.00, \"Produto vendido\": \"Produto A\", \"Quantidade vendida\": 2, \"Método de pagamento\": \"PIX\", \"Região de venda\": \"Leste\"},\n",
    "    {\"Data da venda\": \"2023-01-05\", \"Valor da venda\": 150.00, \"Produto vendido\": \"Produto B\", \"Quantidade vendida\": 2, \"Método de pagamento\": \"Cartão\", \"Região de venda\": \"Oeste\"},\n",
    "    {\"Data da venda\": \"2023-01-06\", \"Valor da venda\": 70.00, \"Produto vendido\": \"Produto C\", \"Quantidade vendida\": 1, \"Método de pagamento\": \"Dinheiro\", \"Região de venda\": \"Centro\"},\n",
    "    {\"Data da venda\": \"2023-01-07\", \"Valor da venda\": 90.00, \"Produto vendido\": \"Produto A\", \"Quantidade vendida\": 2, \"Método de pagamento\": \"PIX\", \"Região de venda\": \"Sul\"},\n",
    "    {\"Data da venda\": \"2023-01-08\", \"Valor da venda\": 110.00, \"Produto vendido\": \"Produto B\", \"Quantidade vendida\": 3, \"Método de pagamento\": \"Cartão\", \"Região de venda\": \"Norte\"},\n",
    "    {\"Data da venda\": \"2023-01-09\", \"Valor da venda\": 130.00, \"Produto vendido\": \"Produto C\", \"Quantidade vendida\": 2, \"Método de pagamento\": \"Dinheiro\", \"Região de venda\": \"Leste\"},\n",
    "    {\"Data da venda\": \"2023-01-10\", \"Valor da venda\": 100.00, \"Produto vendido\": \"Produto A\", \"Quantidade vendida\": 1, \"Método de pagamento\": \"Cartão\", \"Região de venda\": \"Oeste\"}\n",
    "]"
   ]
  },
  {
   "cell_type": "code",
   "execution_count": 4,
   "metadata": {},
   "outputs": [],
   "source": [
    "# Criar DataFrame\n",
    "df = pd.DataFrame(dados_vendas)"
   ]
  },
  {
   "cell_type": "markdown",
   "metadata": {},
   "source": [
    "# Análise estatística"
   ]
  },
  {
   "cell_type": "code",
   "execution_count": 5,
   "metadata": {},
   "outputs": [
    {
     "name": "stdout",
     "output_type": "stream",
     "text": [
      "Média: 100.0\n",
      "Mediana: 100.0\n",
      "Moda: 100.0\n",
      "Desvio Padrão: 29.43920288775949\n",
      "Variância: 866.6666666666666\n"
     ]
    }
   ],
   "source": [
    "# Calcular métricas\n",
    "media = df['Valor da venda'].mean()\n",
    "mediana = df['Valor da venda'].median()\n",
    "moda = df['Valor da venda'].mode()[0]\n",
    "desvio_padrao = df['Valor da venda'].std()\n",
    "variancia = df['Valor da venda'].var()\n",
    "\n",
    "# Exibir resultados\n",
    "print(f\"Média: {media}\")\n",
    "print(f\"Mediana: {mediana}\")\n",
    "print(f\"Moda: {moda}\")\n",
    "print(f\"Desvio Padrão: {desvio_padrao}\")\n",
    "print(f\"Variância: {variancia}\")"
   ]
  },
  {
   "cell_type": "code",
   "execution_count": 6,
   "metadata": {},
   "outputs": [
    {
     "data": {
      "text/html": [
       "<div>\n",
       "<style scoped>\n",
       "    .dataframe tbody tr th:only-of-type {\n",
       "        vertical-align: middle;\n",
       "    }\n",
       "\n",
       "    .dataframe tbody tr th {\n",
       "        vertical-align: top;\n",
       "    }\n",
       "\n",
       "    .dataframe thead th {\n",
       "        text-align: right;\n",
       "    }\n",
       "</style>\n",
       "<table border=\"1\" class=\"dataframe\">\n",
       "  <thead>\n",
       "    <tr style=\"text-align: right;\">\n",
       "      <th></th>\n",
       "      <th>Valor da venda</th>\n",
       "      <th>Quantidade vendida</th>\n",
       "    </tr>\n",
       "  </thead>\n",
       "  <tbody>\n",
       "    <tr>\n",
       "      <th>count</th>\n",
       "      <td>10.000000</td>\n",
       "      <td>10.000000</td>\n",
       "    </tr>\n",
       "    <tr>\n",
       "      <th>mean</th>\n",
       "      <td>100.000000</td>\n",
       "      <td>1.900000</td>\n",
       "    </tr>\n",
       "    <tr>\n",
       "      <th>std</th>\n",
       "      <td>29.439203</td>\n",
       "      <td>0.737865</td>\n",
       "    </tr>\n",
       "    <tr>\n",
       "      <th>min</th>\n",
       "      <td>50.000000</td>\n",
       "      <td>1.000000</td>\n",
       "    </tr>\n",
       "    <tr>\n",
       "      <th>25%</th>\n",
       "      <td>82.500000</td>\n",
       "      <td>1.250000</td>\n",
       "    </tr>\n",
       "    <tr>\n",
       "      <th>50%</th>\n",
       "      <td>100.000000</td>\n",
       "      <td>2.000000</td>\n",
       "    </tr>\n",
       "    <tr>\n",
       "      <th>75%</th>\n",
       "      <td>117.500000</td>\n",
       "      <td>2.000000</td>\n",
       "    </tr>\n",
       "    <tr>\n",
       "      <th>max</th>\n",
       "      <td>150.000000</td>\n",
       "      <td>3.000000</td>\n",
       "    </tr>\n",
       "  </tbody>\n",
       "</table>\n",
       "</div>"
      ],
      "text/plain": [
       "       Valor da venda  Quantidade vendida\n",
       "count       10.000000           10.000000\n",
       "mean       100.000000            1.900000\n",
       "std         29.439203            0.737865\n",
       "min         50.000000            1.000000\n",
       "25%         82.500000            1.250000\n",
       "50%        100.000000            2.000000\n",
       "75%        117.500000            2.000000\n",
       "max        150.000000            3.000000"
      ]
     },
     "execution_count": 6,
     "metadata": {},
     "output_type": "execute_result"
    }
   ],
   "source": [
    "# usando pandas\n",
    "df.describe()"
   ]
  },
  {
   "cell_type": "code",
   "execution_count": 8,
   "metadata": {},
   "outputs": [
    {
     "name": "stdout",
     "output_type": "stream",
     "text": [
      "Média: 100.0\n",
      "Mediana: 100.0\n",
      "Moda: 100\n",
      "Desvio Padrão: 27.92848008753788\n",
      "Variância: 780.0\n"
     ]
    }
   ],
   "source": [
    "# usando numpy\n",
    "# Calcular métricas\n",
    "media =  np.mean(df['Valor da venda'])\n",
    "mediana = np.median(df['Valor da venda'])\n",
    "contagem = np.bincount(df['Valor da venda']) # Encontra a contagem de cada valor único\n",
    "moda = np.argmax(contagem) #Encontra o índice da contagem máxima\n",
    "desvio_padrao = np.std(df['Valor da venda'])\n",
    "variancia = np.var(df['Valor da venda'])\n",
    "\n",
    "# Exibir resultados\n",
    "print(f\"Média: {media}\")\n",
    "print(f\"Mediana: {mediana}\")\n",
    "print(f\"Moda: {moda}\")\n",
    "print(f\"Desvio Padrão: {desvio_padrao}\")\n",
    "print(f\"Variância: {variancia}\")"
   ]
  },
  {
   "cell_type": "markdown",
   "metadata": {},
   "source": [
    "# Histograma"
   ]
  },
  {
   "cell_type": "code",
   "execution_count": 9,
   "metadata": {},
   "outputs": [
    {
     "data": {
      "image/png": "[encoded data removed]",
      "text/plain": [
       "<Figure size 640x480 with 1 Axes>"
      ]
     },
     "metadata": {},
     "output_type": "display_data"
    }
   ],
   "source": [
    "# Criar histograma\n",
    "plt.hist(df['Valor da venda'], bins=5, edgecolor='black')\n",
    "plt.title('Histograma dos Valores de Venda')\n",
    "plt.xlabel('Valor da Venda')\n",
    "plt.ylabel('Frequência')\n",
    "plt.grid(True)\n",
    "\n",
    "# Exibir histograma\n",
    "plt.show()"
   ]
  }
 ],
 "metadata": {
  "kernelspec": {
   "display_name": "Python 3",
   "language": "python",
   "name": "python3"
  },
  "language_info": {
   "codemirror_mode": {
    "name": "ipython",
    "version": 3
   },
   "file_extension": ".py",
   "mimetype": "text/x-python",
   "name": "python",
   "nbconvert_exporter": "python",
   "pygments_lexer": "ipython3",
   "version": "3.12.2"
  }
 },
 "nbformat": 4,
 "nbformat_minor": 2
}
