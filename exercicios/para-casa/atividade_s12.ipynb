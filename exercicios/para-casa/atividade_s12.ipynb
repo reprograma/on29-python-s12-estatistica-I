{
 "cells": [
  {
   "cell_type": "code",
   "execution_count": 27,
   "metadata": {},
   "outputs": [],
   "source": [
    "import csv"
   ]
  },
  {
   "cell_type": "code",
   "execution_count": 28,
   "metadata": {},
   "outputs": [
    {
     "name": "stdout",
     "output_type": "stream",
     "text": [
      "Arquivo 'dados_venda.csv' criado com sucesso.\n"
     ]
    }
   ],
   "source": [
    "#criando um arquivo .csv com a lista fornecida\n",
    "\n",
    "dados_vendas = [\n",
    "    {\"Data da venda\": \"2023-01-01\", \"Valor da venda\": 100.00, \"Produto vendido\": \"Produto A\", \"Quantidade vendida\": 2, \"Método de pagamento\": \"Cartão\", \"Região de venda\": \"Centro\"},\n",
    "    {\"Data da venda\": \"2023-01-02\", \"Valor da venda\": 50.00, \"Produto vendido\": \"Produto B\", \"Quantidade vendida\": 1, \"Método de pagamento\": \"Dinheiro\", \"Região de venda\": \"Sul\"},\n",
    "    {\"Data da venda\": \"2023-01-03\", \"Valor da venda\": 120.00, \"Produto vendido\": \"Produto C\", \"Quantidade vendida\": 3, \"Método de pagamento\": \"Cartão\", \"Região de venda\": \"Norte\"},\n",
    "    {\"Data da venda\": \"2023-01-04\", \"Valor da venda\": 80.00, \"Produto vendido\": \"Produto A\", \"Quantidade vendida\": 2, \"Método de pagamento\": \"PIX\", \"Região de venda\": \"Leste\"},\n",
    "    {\"Data da venda\": \"2023-01-05\", \"Valor da venda\": 150.00, \"Produto vendido\": \"Produto B\", \"Quantidade vendida\": 2, \"Método de pagamento\": \"Cartão\", \"Região de venda\": \"Oeste\"},\n",
    "    {\"Data da venda\": \"2023-01-06\", \"Valor da venda\": 70.00, \"Produto vendido\": \"Produto C\", \"Quantidade vendida\": 1, \"Método de pagamento\": \"Dinheiro\", \"Região de venda\": \"Centro\"},\n",
    "    {\"Data da venda\": \"2023-01-07\", \"Valor da venda\": 90.00, \"Produto vendido\": \"Produto A\", \"Quantidade vendida\": 2, \"Método de pagamento\": \"PIX\", \"Região de venda\": \"Sul\"},\n",
    "    {\"Data da venda\": \"2023-01-08\", \"Valor da venda\": 110.00, \"Produto vendido\": \"Produto B\", \"Quantidade vendida\": 3, \"Método de pagamento\": \"Cartão\", \"Região de venda\": \"Norte\"},\n",
    "    {\"Data da venda\": \"2023-01-09\", \"Valor da venda\": 130.00, \"Produto vendido\": \"Produto C\", \"Quantidade vendida\": 2, \"Método de pagamento\": \"Dinheiro\", \"Região de venda\": \"Leste\"},\n",
    "    {\"Data da venda\": \"2023-01-10\", \"Valor da venda\": 100.00, \"Produto vendido\": \"Produto A\", \"Quantidade vendida\": 1, \"Método de pagamento\": \"Cartão\", \"Região de venda\": \"Oeste\"}\n",
    "]\n",
    "\n",
    "arquivo_csv = 'dados_venda.csv'\n",
    "campos = [\"Data da venda\", \"Valor da venda\", \"Produto vendido\", \"Quantidade vendida\", \"Método de pagamento\", \"Região de venda\"]\n",
    "with open(arquivo_csv, mode='w', newline='', encoding= \"UTF-8\") as file:\n",
    "    writer = csv.DictWriter(file, fieldnames=campos)\n",
    "    writer.writeheader()\n",
    "    writer.writerows(dados_vendas)\n",
    "\n",
    "print(f\"Arquivo '{arquivo_csv}' criado com sucesso.\")\n"
   ]
  },
  {
   "cell_type": "code",
   "execution_count": 29,
   "metadata": {},
   "outputs": [],
   "source": [
    "import pandas as pd\n",
    "import numpy as np"
   ]
  },
  {
   "cell_type": "code",
   "execution_count": 30,
   "metadata": {},
   "outputs": [
    {
     "data": {
      "text/html": [
       "<div>\n",
       "<style scoped>\n",
       "    .dataframe tbody tr th:only-of-type {\n",
       "        vertical-align: middle;\n",
       "    }\n",
       "\n",
       "    .dataframe tbody tr th {\n",
       "        vertical-align: top;\n",
       "    }\n",
       "\n",
       "    .dataframe thead th {\n",
       "        text-align: right;\n",
       "    }\n",
       "</style>\n",
       "<table border=\"1\" class=\"dataframe\">\n",
       "  <thead>\n",
       "    <tr style=\"text-align: right;\">\n",
       "      <th></th>\n",
       "      <th>Data da venda</th>\n",
       "      <th>Valor da venda</th>\n",
       "      <th>Produto vendido</th>\n",
       "      <th>Quantidade vendida</th>\n",
       "      <th>Método de pagamento</th>\n",
       "      <th>Região de venda</th>\n",
       "    </tr>\n",
       "  </thead>\n",
       "  <tbody>\n",
       "    <tr>\n",
       "      <th>0</th>\n",
       "      <td>2023-01-01</td>\n",
       "      <td>100.0</td>\n",
       "      <td>Produto A</td>\n",
       "      <td>2</td>\n",
       "      <td>Cartão</td>\n",
       "      <td>Centro</td>\n",
       "    </tr>\n",
       "    <tr>\n",
       "      <th>1</th>\n",
       "      <td>2023-01-02</td>\n",
       "      <td>50.0</td>\n",
       "      <td>Produto B</td>\n",
       "      <td>1</td>\n",
       "      <td>Dinheiro</td>\n",
       "      <td>Sul</td>\n",
       "    </tr>\n",
       "    <tr>\n",
       "      <th>2</th>\n",
       "      <td>2023-01-03</td>\n",
       "      <td>120.0</td>\n",
       "      <td>Produto C</td>\n",
       "      <td>3</td>\n",
       "      <td>Cartão</td>\n",
       "      <td>Norte</td>\n",
       "    </tr>\n",
       "    <tr>\n",
       "      <th>3</th>\n",
       "      <td>2023-01-04</td>\n",
       "      <td>80.0</td>\n",
       "      <td>Produto A</td>\n",
       "      <td>2</td>\n",
       "      <td>PIX</td>\n",
       "      <td>Leste</td>\n",
       "    </tr>\n",
       "    <tr>\n",
       "      <th>4</th>\n",
       "      <td>2023-01-05</td>\n",
       "      <td>150.0</td>\n",
       "      <td>Produto B</td>\n",
       "      <td>2</td>\n",
       "      <td>Cartão</td>\n",
       "      <td>Oeste</td>\n",
       "    </tr>\n",
       "    <tr>\n",
       "      <th>5</th>\n",
       "      <td>2023-01-06</td>\n",
       "      <td>70.0</td>\n",
       "      <td>Produto C</td>\n",
       "      <td>1</td>\n",
       "      <td>Dinheiro</td>\n",
       "      <td>Centro</td>\n",
       "    </tr>\n",
       "    <tr>\n",
       "      <th>6</th>\n",
       "      <td>2023-01-07</td>\n",
       "      <td>90.0</td>\n",
       "      <td>Produto A</td>\n",
       "      <td>2</td>\n",
       "      <td>PIX</td>\n",
       "      <td>Sul</td>\n",
       "    </tr>\n",
       "    <tr>\n",
       "      <th>7</th>\n",
       "      <td>2023-01-08</td>\n",
       "      <td>110.0</td>\n",
       "      <td>Produto B</td>\n",
       "      <td>3</td>\n",
       "      <td>Cartão</td>\n",
       "      <td>Norte</td>\n",
       "    </tr>\n",
       "    <tr>\n",
       "      <th>8</th>\n",
       "      <td>2023-01-09</td>\n",
       "      <td>130.0</td>\n",
       "      <td>Produto C</td>\n",
       "      <td>2</td>\n",
       "      <td>Dinheiro</td>\n",
       "      <td>Leste</td>\n",
       "    </tr>\n",
       "    <tr>\n",
       "      <th>9</th>\n",
       "      <td>2023-01-10</td>\n",
       "      <td>100.0</td>\n",
       "      <td>Produto A</td>\n",
       "      <td>1</td>\n",
       "      <td>Cartão</td>\n",
       "      <td>Oeste</td>\n",
       "    </tr>\n",
       "  </tbody>\n",
       "</table>\n",
       "</div>"
      ],
      "text/plain": [
       "  Data da venda  Valor da venda Produto vendido  Quantidade vendida  \\\n",
       "0    2023-01-01           100.0       Produto A                   2   \n",
       "1    2023-01-02            50.0       Produto B                   1   \n",
       "2    2023-01-03           120.0       Produto C                   3   \n",
       "3    2023-01-04            80.0       Produto A                   2   \n",
       "4    2023-01-05           150.0       Produto B                   2   \n",
       "5    2023-01-06            70.0       Produto C                   1   \n",
       "6    2023-01-07            90.0       Produto A                   2   \n",
       "7    2023-01-08           110.0       Produto B                   3   \n",
       "8    2023-01-09           130.0       Produto C                   2   \n",
       "9    2023-01-10           100.0       Produto A                   1   \n",
       "\n",
       "  Método de pagamento Região de venda  \n",
       "0              Cartão          Centro  \n",
       "1            Dinheiro             Sul  \n",
       "2              Cartão           Norte  \n",
       "3                 PIX           Leste  \n",
       "4              Cartão           Oeste  \n",
       "5            Dinheiro          Centro  \n",
       "6                 PIX             Sul  \n",
       "7              Cartão           Norte  \n",
       "8            Dinheiro           Leste  \n",
       "9              Cartão           Oeste  "
      ]
     },
     "execution_count": 30,
     "metadata": {},
     "output_type": "execute_result"
    }
   ],
   "source": [
    "#leitura do dataset 'dados_vendas.csv'\n",
    "\n",
    "df = pd.read_csv(\"dados_venda.csv\")\n",
    "df"
   ]
  },
  {
   "cell_type": "code",
   "execution_count": 31,
   "metadata": {},
   "outputs": [
    {
     "name": "stdout",
     "output_type": "stream",
     "text": [
      "O valor médio de vendas é de R$ 100.00.\n",
      "O valor da mediana de vendas é de R$ 100.00.\n",
      "O valor mínimo de vendas é de R$ 50.00.\n",
      "O valor máximo de vendas é de R$ 150.00.\n",
      "O valor do desvio padrão de vendas é de R$ 27.93.\n"
     ]
    }
   ],
   "source": [
    "#Cálculos de média, mediana, mínimo, máximo e desvio padrão\n",
    "\n",
    "media_vendas = np.mean(df[\"Valor da venda\"])\n",
    "print(f\"O valor médio de vendas é de R${media_vendas: .2f}.\")\n",
    "mediana_vendas = np.median(df[\"Valor da venda\"])\n",
    "print(f\"O valor da mediana de vendas é de R${mediana_vendas: .2f}.\")\n",
    "minimo_vendas = np.min(df[\"Valor da venda\"])\n",
    "print(f\"O valor mínimo de vendas é de R${minimo_vendas: .2f}.\")\n",
    "maximo_vendas = np.max(df[\"Valor da venda\"])\n",
    "print(f\"O valor máximo de vendas é de R${maximo_vendas: .2f}.\")\n",
    "dp_vendas = np.std(df[\"Valor da venda\"])\n",
    "print(f\"O valor do desvio padrão de vendas é de R${dp_vendas: .2f}.\")\n"
   ]
  },
  {
   "cell_type": "code",
   "execution_count": 32,
   "metadata": {},
   "outputs": [],
   "source": [
    "import matplotlib.pyplot as plt"
   ]
  },
  {
   "cell_type": "code",
   "execution_count": 33,
   "metadata": {},
   "outputs": [
    {
     "data": {
      "text/plain": [
       "<function matplotlib.pyplot.show(close=None, block=None)>"
      ]
     },
     "execution_count": 33,
     "metadata": {},
     "output_type": "execute_result"
    },
    {
     "data": {
      "image/png": "[encoded data removed]",
      "text/plain": [
       "<Figure size 1800x900 with 1 Axes>"
      ]
     },
     "metadata": {},
     "output_type": "display_data"
    }
   ],
   "source": [
    "plt.figure(figsize=(18,9))\n",
    "plt.hist(df[\"Valor da venda\"], bins= 5, edgecolor= \"Black\", color= \"darkorchid\", alpha= 0.8)\n",
    "plt.title(\"Distribuição de vendas\", fontsize= 18)\n",
    "plt.xlabel(\"Valores das Vendas\", fontsize= 15)\n",
    "plt.ylabel(\"Frequência\", fontsize= 15)\n",
    "plt.xticks(fontsize= 12)\n",
    "plt.yticks(fontsize= 12)\n",
    "\n",
    "plt.show"
   ]
  }
 ],
 "metadata": {
  "kernelspec": {
   "display_name": "Python 3",
   "language": "python",
   "name": "python3"
  },
  "language_info": {
   "codemirror_mode": {
    "name": "ipython",
    "version": 3
   },
   "file_extension": ".py",
   "mimetype": "text/x-python",
   "name": "python",
   "nbconvert_exporter": "python",
   "pygments_lexer": "ipython3",
   "version": "3.12.2"
  }
 },
 "nbformat": 4,
 "nbformat_minor": 2
}
