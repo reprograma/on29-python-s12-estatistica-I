{
  "nbformat": 4,
  "nbformat_minor": 0,
  "metadata": {
    "colab": {
      "provenance": []
    },
    "kernelspec": {
      "name": "python3",
      "display_name": "Python 3"
    },
    "language_info": {
      "name": "python"
    }
  },
  "cells": [
    {
      "cell_type": "code",
      "execution_count": 1,
      "metadata": {
        "id": "vTqMrpsq6j99"
      },
      "outputs": [],
      "source": [
        "# Importar as bibliotecas\n",
        "\n",
        "import pandas as pd\n",
        "import numpy as np\n",
        "import matplotlib.pyplot as plt"
      ]
    },
    {
      "cell_type": "code",
      "source": [
        "# Lançando os dados\n",
        "dv = [\n",
        "    {\"Data da venda\": \"2023-01-01\", \"Valor da venda\": 100.00, \"Produto vendido\": \"Produto A\", \"Quantidade vendida\": 2, \"Método de pagamento\": \"Cartão\", \"Região de venda\": \"Centro\"},\n",
        "    {\"Data da venda\": \"2023-01-02\", \"Valor da venda\": 50.00, \"Produto vendido\": \"Produto B\", \"Quantidade vendida\": 1, \"Método de pagamento\": \"Dinheiro\", \"Região de venda\": \"Sul\"},\n",
        "    {\"Data da venda\": \"2023-01-03\", \"Valor da venda\": 120.00, \"Produto vendido\": \"Produto C\", \"Quantidade vendida\": 3, \"Método de pagamento\": \"Cartão\", \"Região de venda\": \"Norte\"},\n",
        "    {\"Data da venda\": \"2023-01-04\", \"Valor da venda\": 80.00, \"Produto vendido\": \"Produto A\", \"Quantidade vendida\": 2, \"Método de pagamento\": \"PIX\", \"Região de venda\": \"Leste\"},\n",
        "    {\"Data da venda\": \"2023-01-05\", \"Valor da venda\": 150.00, \"Produto vendido\": \"Produto B\", \"Quantidade vendida\": 2, \"Método de pagamento\": \"Cartão\", \"Região de venda\": \"Oeste\"},\n",
        "    {\"Data da venda\": \"2023-01-06\", \"Valor da venda\": 70.00, \"Produto vendido\": \"Produto C\", \"Quantidade vendida\": 1, \"Método de pagamento\": \"Dinheiro\", \"Região de venda\": \"Centro\"},\n",
        "    {\"Data da venda\": \"2023-01-07\", \"Valor da venda\": 90.00, \"Produto vendido\": \"Produto A\", \"Quantidade vendida\": 2, \"Método de pagamento\": \"PIX\", \"Região de venda\": \"Sul\"},\n",
        "    {\"Data da venda\": \"2023-01-08\", \"Valor da venda\": 110.00, \"Produto vendido\": \"Produto B\", \"Quantidade vendida\": 3, \"Método de pagamento\": \"Cartão\", \"Região de venda\": \"Norte\"},\n",
        "    {\"Data da venda\": \"2023-01-09\", \"Valor da venda\": 130.00, \"Produto vendido\": \"Produto C\", \"Quantidade vendida\": 2, \"Método de pagamento\": \"Dinheiro\", \"Região de venda\": \"Leste\"},\n",
        "    {\"Data da venda\": \"2023-01-10\", \"Valor da venda\": 100.00, \"Produto vendido\": \"Produto A\", \"Quantidade vendida\": 1, \"Método de pagamento\": \"Cartão\", \"Região de venda\": \"Oeste\"}\n",
        "]"
      ],
      "metadata": {
        "id": "7iNyU5877c9Y"
      },
      "execution_count": 3,
      "outputs": []
    },
    {
      "cell_type": "code",
      "source": [
        "# Carregar os dados no DataFrame\n",
        "df = pd.DataFrame(dv)"
      ],
      "metadata": {
        "id": "uN3zHS7-7m2m"
      },
      "execution_count": 5,
      "outputs": []
    },
    {
      "cell_type": "code",
      "source": [
        "# conferir df\n",
        "df"
      ],
      "metadata": {
        "colab": {
          "base_uri": "https://localhost:8080/",
          "height": 362
        },
        "id": "5HhiuaLm75Da",
        "outputId": "7436fe0b-a93a-418d-a132-f0d2ae27010a"
      },
      "execution_count": 6,
      "outputs": [
        {
          "output_type": "execute_result",
          "data": {
            "text/plain": [
              "  Data da venda  Valor da venda Produto vendido  Quantidade vendida  \\\n",
              "0    2023-01-01           100.0       Produto A                   2   \n",
              "1    2023-01-02            50.0       Produto B                   1   \n",
              "2    2023-01-03           120.0       Produto C                   3   \n",
              "3    2023-01-04            80.0       Produto A                   2   \n",
              "4    2023-01-05           150.0       Produto B                   2   \n",
              "5    2023-01-06            70.0       Produto C                   1   \n",
              "6    2023-01-07            90.0       Produto A                   2   \n",
              "7    2023-01-08           110.0       Produto B                   3   \n",
              "8    2023-01-09           130.0       Produto C                   2   \n",
              "9    2023-01-10           100.0       Produto A                   1   \n",
              "\n",
              "  Método de pagamento Região de venda  \n",
              "0              Cartão          Centro  \n",
              "1            Dinheiro             Sul  \n",
              "2              Cartão           Norte  \n",
              "3                 PIX           Leste  \n",
              "4              Cartão           Oeste  \n",
              "5            Dinheiro          Centro  \n",
              "6                 PIX             Sul  \n",
              "7              Cartão           Norte  \n",
              "8            Dinheiro           Leste  \n",
              "9              Cartão           Oeste  "
            ],
            "text/html": [
              "\n",
              "  <div id=\"df-20523095-1ea2-4f43-97b6-444011f9aac2\" class=\"colab-df-container\">\n",
              "    <div>\n",
              "<style scoped>\n",
              "    .dataframe tbody tr th:only-of-type {\n",
              "        vertical-align: middle;\n",
              "    }\n",
              "\n",
              "    .dataframe tbody tr th {\n",
              "        vertical-align: top;\n",
              "    }\n",
              "\n",
              "    .dataframe thead th {\n",
              "        text-align: right;\n",
              "    }\n",
              "</style>\n",
              "<table border=\"1\" class=\"dataframe\">\n",
              "  <thead>\n",
              "    <tr style=\"text-align: right;\">\n",
              "      <th></th>\n",
              "      <th>Data da venda</th>\n",
              "      <th>Valor da venda</th>\n",
              "      <th>Produto vendido</th>\n",
              "      <th>Quantidade vendida</th>\n",
              "      <th>Método de pagamento</th>\n",
              "      <th>Região de venda</th>\n",
              "    </tr>\n",
              "  </thead>\n",
              "  <tbody>\n",
              "    <tr>\n",
              "      <th>0</th>\n",
              "      <td>2023-01-01</td>\n",
              "      <td>100.0</td>\n",
              "      <td>Produto A</td>\n",
              "      <td>2</td>\n",
              "      <td>Cartão</td>\n",
              "      <td>Centro</td>\n",
              "    </tr>\n",
              "    <tr>\n",
              "      <th>1</th>\n",
              "      <td>2023-01-02</td>\n",
              "      <td>50.0</td>\n",
              "      <td>Produto B</td>\n",
              "      <td>1</td>\n",
              "      <td>Dinheiro</td>\n",
              "      <td>Sul</td>\n",
              "    </tr>\n",
              "    <tr>\n",
              "      <th>2</th>\n",
              "      <td>2023-01-03</td>\n",
              "      <td>120.0</td>\n",
              "      <td>Produto C</td>\n",
              "      <td>3</td>\n",
              "      <td>Cartão</td>\n",
              "      <td>Norte</td>\n",
              "    </tr>\n",
              "    <tr>\n",
              "      <th>3</th>\n",
              "      <td>2023-01-04</td>\n",
              "      <td>80.0</td>\n",
              "      <td>Produto A</td>\n",
              "      <td>2</td>\n",
              "      <td>PIX</td>\n",
              "      <td>Leste</td>\n",
              "    </tr>\n",
              "    <tr>\n",
              "      <th>4</th>\n",
              "      <td>2023-01-05</td>\n",
              "      <td>150.0</td>\n",
              "      <td>Produto B</td>\n",
              "      <td>2</td>\n",
              "      <td>Cartão</td>\n",
              "      <td>Oeste</td>\n",
              "    </tr>\n",
              "    <tr>\n",
              "      <th>5</th>\n",
              "      <td>2023-01-06</td>\n",
              "      <td>70.0</td>\n",
              "      <td>Produto C</td>\n",
              "      <td>1</td>\n",
              "      <td>Dinheiro</td>\n",
              "      <td>Centro</td>\n",
              "    </tr>\n",
              "    <tr>\n",
              "      <th>6</th>\n",
              "      <td>2023-01-07</td>\n",
              "      <td>90.0</td>\n",
              "      <td>Produto A</td>\n",
              "      <td>2</td>\n",
              "      <td>PIX</td>\n",
              "      <td>Sul</td>\n",
              "    </tr>\n",
              "    <tr>\n",
              "      <th>7</th>\n",
              "      <td>2023-01-08</td>\n",
              "      <td>110.0</td>\n",
              "      <td>Produto B</td>\n",
              "      <td>3</td>\n",
              "      <td>Cartão</td>\n",
              "      <td>Norte</td>\n",
              "    </tr>\n",
              "    <tr>\n",
              "      <th>8</th>\n",
              "      <td>2023-01-09</td>\n",
              "      <td>130.0</td>\n",
              "      <td>Produto C</td>\n",
              "      <td>2</td>\n",
              "      <td>Dinheiro</td>\n",
              "      <td>Leste</td>\n",
              "    </tr>\n",
              "    <tr>\n",
              "      <th>9</th>\n",
              "      <td>2023-01-10</td>\n",
              "      <td>100.0</td>\n",
              "      <td>Produto A</td>\n",
              "      <td>1</td>\n",
              "      <td>Cartão</td>\n",
              "      <td>Oeste</td>\n",
              "    </tr>\n",
              "  </tbody>\n",
              "</table>\n",
              "</div>\n",
              "    <div class=\"colab-df-buttons\">\n",
              "\n",
              "  <div class=\"colab-df-container\">\n",
              "    <button class=\"colab-df-convert\" onclick=\"convertToInteractive('df-20523095-1ea2-4f43-97b6-444011f9aac2')\"\n",
              "            title=\"Convert this dataframe to an interactive table.\"\n",
              "            style=\"display:none;\">\n",
              "\n",
              "  <svg xmlns=\"http://www.w3.org/2000/svg\" height=\"24px\" viewBox=\"0 -960 960 960\">\n",
              "    <path d=\"M120-120v-720h720v720H120Zm60-500h600v-160H180v160Zm220 220h160v-160H400v160Zm0 220h160v-160H400v160ZM180-400h160v-160H180v160Zm440 0h160v-160H620v160ZM180-180h160v-160H180v160Zm440 0h160v-160H620v160Z\"/>\n",
              "  </svg>\n",
              "    </button>\n",
              "\n",
              "  <style>\n",
              "    .colab-df-container {\n",
              "      display:flex;\n",
              "      gap: 12px;\n",
              "    }\n",
              "\n",
              "    .colab-df-convert {\n",
              "      background-color: #E8F0FE;\n",
              "      border: none;\n",
              "      border-radius: 50%;\n",
              "      cursor: pointer;\n",
              "      display: none;\n",
              "      fill: #1967D2;\n",
              "      height: 32px;\n",
              "      padding: 0 0 0 0;\n",
              "      width: 32px;\n",
              "    }\n",
              "\n",
              "    .colab-df-convert:hover {\n",
              "      background-color: #E2EBFA;\n",
              "      box-shadow: 0px 1px 2px rgba(60, 64, 67, 0.3), 0px 1px 3px 1px rgba(60, 64, 67, 0.15);\n",
              "      fill: #174EA6;\n",
              "    }\n",
              "\n",
              "    .colab-df-buttons div {\n",
              "      margin-bottom: 4px;\n",
              "    }\n",
              "\n",
              "    [theme=dark] .colab-df-convert {\n",
              "      background-color: #3B4455;\n",
              "      fill: #D2E3FC;\n",
              "    }\n",
              "\n",
              "    [theme=dark] .colab-df-convert:hover {\n",
              "      background-color: #434B5C;\n",
              "      box-shadow: 0px 1px 3px 1px rgba(0, 0, 0, 0.15);\n",
              "      filter: drop-shadow(0px 1px 2px rgba(0, 0, 0, 0.3));\n",
              "      fill: #FFFFFF;\n",
              "    }\n",
              "  </style>\n",
              "\n",
              "    <script>\n",
              "      const buttonEl =\n",
              "        document.querySelector('#df-20523095-1ea2-4f43-97b6-444011f9aac2 button.colab-df-convert');\n",
              "      buttonEl.style.display =\n",
              "        google.colab.kernel.accessAllowed ? 'block' : 'none';\n",
              "\n",
              "      async function convertToInteractive(key) {\n",
              "        const element = document.querySelector('#df-20523095-1ea2-4f43-97b6-444011f9aac2');\n",
              "        const dataTable =\n",
              "          await google.colab.kernel.invokeFunction('convertToInteractive',\n",
              "                                                    [key], {});\n",
              "        if (!dataTable) return;\n",
              "\n",
              "        const docLinkHtml = 'Like what you see? Visit the ' +\n",
              "          '<a target=\"_blank\" href=https://colab.research.google.com/notebooks/data_table.ipynb>data table notebook</a>'\n",
              "          + ' to learn more about interactive tables.';\n",
              "        element.innerHTML = '';\n",
              "        dataTable['output_type'] = 'display_data';\n",
              "        await google.colab.output.renderOutput(dataTable, element);\n",
              "        const docLink = document.createElement('div');\n",
              "        docLink.innerHTML = docLinkHtml;\n",
              "        element.appendChild(docLink);\n",
              "      }\n",
              "    </script>\n",
              "  </div>\n",
              "\n",
              "\n",
              "<div id=\"df-1b91a042-5de5-4ceb-97ad-341d1b0b5fe0\">\n",
              "  <button class=\"colab-df-quickchart\" onclick=\"quickchart('df-1b91a042-5de5-4ceb-97ad-341d1b0b5fe0')\"\n",
              "            title=\"Suggest charts\"\n",
              "            style=\"display:none;\">\n",
              "\n",
              "<svg xmlns=\"http://www.w3.org/2000/svg\" height=\"24px\"viewBox=\"0 0 24 24\"\n",
              "     width=\"24px\">\n",
              "    <g>\n",
              "        <path d=\"M19 3H5c-1.1 0-2 .9-2 2v14c0 1.1.9 2 2 2h14c1.1 0 2-.9 2-2V5c0-1.1-.9-2-2-2zM9 17H7v-7h2v7zm4 0h-2V7h2v10zm4 0h-2v-4h2v4z\"/>\n",
              "    </g>\n",
              "</svg>\n",
              "  </button>\n",
              "\n",
              "<style>\n",
              "  .colab-df-quickchart {\n",
              "      --bg-color: #E8F0FE;\n",
              "      --fill-color: #1967D2;\n",
              "      --hover-bg-color: #E2EBFA;\n",
              "      --hover-fill-color: #174EA6;\n",
              "      --disabled-fill-color: #AAA;\n",
              "      --disabled-bg-color: #DDD;\n",
              "  }\n",
              "\n",
              "  [theme=dark] .colab-df-quickchart {\n",
              "      --bg-color: #3B4455;\n",
              "      --fill-color: #D2E3FC;\n",
              "      --hover-bg-color: #434B5C;\n",
              "      --hover-fill-color: #FFFFFF;\n",
              "      --disabled-bg-color: #3B4455;\n",
              "      --disabled-fill-color: #666;\n",
              "  }\n",
              "\n",
              "  .colab-df-quickchart {\n",
              "    background-color: var(--bg-color);\n",
              "    border: none;\n",
              "    border-radius: 50%;\n",
              "    cursor: pointer;\n",
              "    display: none;\n",
              "    fill: var(--fill-color);\n",
              "    height: 32px;\n",
              "    padding: 0;\n",
              "    width: 32px;\n",
              "  }\n",
              "\n",
              "  .colab-df-quickchart:hover {\n",
              "    background-color: var(--hover-bg-color);\n",
              "    box-shadow: 0 1px 2px rgba(60, 64, 67, 0.3), 0 1px 3px 1px rgba(60, 64, 67, 0.15);\n",
              "    fill: var(--button-hover-fill-color);\n",
              "  }\n",
              "\n",
              "  .colab-df-quickchart-complete:disabled,\n",
              "  .colab-df-quickchart-complete:disabled:hover {\n",
              "    background-color: var(--disabled-bg-color);\n",
              "    fill: var(--disabled-fill-color);\n",
              "    box-shadow: none;\n",
              "  }\n",
              "\n",
              "  .colab-df-spinner {\n",
              "    border: 2px solid var(--fill-color);\n",
              "    border-color: transparent;\n",
              "    border-bottom-color: var(--fill-color);\n",
              "    animation:\n",
              "      spin 1s steps(1) infinite;\n",
              "  }\n",
              "\n",
              "  @keyframes spin {\n",
              "    0% {\n",
              "      border-color: transparent;\n",
              "      border-bottom-color: var(--fill-color);\n",
              "      border-left-color: var(--fill-color);\n",
              "    }\n",
              "    20% {\n",
              "      border-color: transparent;\n",
              "      border-left-color: var(--fill-color);\n",
              "      border-top-color: var(--fill-color);\n",
              "    }\n",
              "    30% {\n",
              "      border-color: transparent;\n",
              "      border-left-color: var(--fill-color);\n",
              "      border-top-color: var(--fill-color);\n",
              "      border-right-color: var(--fill-color);\n",
              "    }\n",
              "    40% {\n",
              "      border-color: transparent;\n",
              "      border-right-color: var(--fill-color);\n",
              "      border-top-color: var(--fill-color);\n",
              "    }\n",
              "    60% {\n",
              "      border-color: transparent;\n",
              "      border-right-color: var(--fill-color);\n",
              "    }\n",
              "    80% {\n",
              "      border-color: transparent;\n",
              "      border-right-color: var(--fill-color);\n",
              "      border-bottom-color: var(--fill-color);\n",
              "    }\n",
              "    90% {\n",
              "      border-color: transparent;\n",
              "      border-bottom-color: var(--fill-color);\n",
              "    }\n",
              "  }\n",
              "</style>\n",
              "\n",
              "  <script>\n",
              "    async function quickchart(key) {\n",
              "      const quickchartButtonEl =\n",
              "        document.querySelector('#' + key + ' button');\n",
              "      quickchartButtonEl.disabled = true;  // To prevent multiple clicks.\n",
              "      quickchartButtonEl.classList.add('colab-df-spinner');\n",
              "      try {\n",
              "        const charts = await google.colab.kernel.invokeFunction(\n",
              "            'suggestCharts', [key], {});\n",
              "      } catch (error) {\n",
              "        console.error('Error during call to suggestCharts:', error);\n",
              "      }\n",
              "      quickchartButtonEl.classList.remove('colab-df-spinner');\n",
              "      quickchartButtonEl.classList.add('colab-df-quickchart-complete');\n",
              "    }\n",
              "    (() => {\n",
              "      let quickchartButtonEl =\n",
              "        document.querySelector('#df-1b91a042-5de5-4ceb-97ad-341d1b0b5fe0 button');\n",
              "      quickchartButtonEl.style.display =\n",
              "        google.colab.kernel.accessAllowed ? 'block' : 'none';\n",
              "    })();\n",
              "  </script>\n",
              "</div>\n",
              "\n",
              "  <div id=\"id_4619baba-5b66-411f-a572-0e819db28d2c\">\n",
              "    <style>\n",
              "      .colab-df-generate {\n",
              "        background-color: #E8F0FE;\n",
              "        border: none;\n",
              "        border-radius: 50%;\n",
              "        cursor: pointer;\n",
              "        display: none;\n",
              "        fill: #1967D2;\n",
              "        height: 32px;\n",
              "        padding: 0 0 0 0;\n",
              "        width: 32px;\n",
              "      }\n",
              "\n",
              "      .colab-df-generate:hover {\n",
              "        background-color: #E2EBFA;\n",
              "        box-shadow: 0px 1px 2px rgba(60, 64, 67, 0.3), 0px 1px 3px 1px rgba(60, 64, 67, 0.15);\n",
              "        fill: #174EA6;\n",
              "      }\n",
              "\n",
              "      [theme=dark] .colab-df-generate {\n",
              "        background-color: #3B4455;\n",
              "        fill: #D2E3FC;\n",
              "      }\n",
              "\n",
              "      [theme=dark] .colab-df-generate:hover {\n",
              "        background-color: #434B5C;\n",
              "        box-shadow: 0px 1px 3px 1px rgba(0, 0, 0, 0.15);\n",
              "        filter: drop-shadow(0px 1px 2px rgba(0, 0, 0, 0.3));\n",
              "        fill: #FFFFFF;\n",
              "      }\n",
              "    </style>\n",
              "    <button class=\"colab-df-generate\" onclick=\"generateWithVariable('df')\"\n",
              "            title=\"Generate code using this dataframe.\"\n",
              "            style=\"display:none;\">\n",
              "\n",
              "  <svg xmlns=\"http://www.w3.org/2000/svg\" height=\"24px\"viewBox=\"0 0 24 24\"\n",
              "       width=\"24px\">\n",
              "    <path d=\"M7,19H8.4L18.45,9,17,7.55,7,17.6ZM5,21V16.75L18.45,3.32a2,2,0,0,1,2.83,0l1.4,1.43a1.91,1.91,0,0,1,.58,1.4,1.91,1.91,0,0,1-.58,1.4L9.25,21ZM18.45,9,17,7.55Zm-12,3A5.31,5.31,0,0,0,4.9,8.1,5.31,5.31,0,0,0,1,6.5,5.31,5.31,0,0,0,4.9,4.9,5.31,5.31,0,0,0,6.5,1,5.31,5.31,0,0,0,8.1,4.9,5.31,5.31,0,0,0,12,6.5,5.46,5.46,0,0,0,6.5,12Z\"/>\n",
              "  </svg>\n",
              "    </button>\n",
              "    <script>\n",
              "      (() => {\n",
              "      const buttonEl =\n",
              "        document.querySelector('#id_4619baba-5b66-411f-a572-0e819db28d2c button.colab-df-generate');\n",
              "      buttonEl.style.display =\n",
              "        google.colab.kernel.accessAllowed ? 'block' : 'none';\n",
              "\n",
              "      buttonEl.onclick = () => {\n",
              "        google.colab.notebook.generateWithVariable('df');\n",
              "      }\n",
              "      })();\n",
              "    </script>\n",
              "  </div>\n",
              "\n",
              "    </div>\n",
              "  </div>\n"
            ],
            "application/vnd.google.colaboratory.intrinsic+json": {
              "type": "dataframe",
              "variable_name": "df",
              "summary": "{\n  \"name\": \"df\",\n  \"rows\": 10,\n  \"fields\": [\n    {\n      \"column\": \"Data da venda\",\n      \"properties\": {\n        \"dtype\": \"object\",\n        \"num_unique_values\": 10,\n        \"samples\": [\n          \"2023-01-09\",\n          \"2023-01-02\",\n          \"2023-01-06\"\n        ],\n        \"semantic_type\": \"\",\n        \"description\": \"\"\n      }\n    },\n    {\n      \"column\": \"Valor da venda\",\n      \"properties\": {\n        \"dtype\": \"number\",\n        \"std\": 29.43920288775949,\n        \"min\": 50.0,\n        \"max\": 150.0,\n        \"num_unique_values\": 9,\n        \"samples\": [\n          110.0,\n          50.0,\n          70.0\n        ],\n        \"semantic_type\": \"\",\n        \"description\": \"\"\n      }\n    },\n    {\n      \"column\": \"Produto vendido\",\n      \"properties\": {\n        \"dtype\": \"category\",\n        \"num_unique_values\": 3,\n        \"samples\": [\n          \"Produto A\",\n          \"Produto B\",\n          \"Produto C\"\n        ],\n        \"semantic_type\": \"\",\n        \"description\": \"\"\n      }\n    },\n    {\n      \"column\": \"Quantidade vendida\",\n      \"properties\": {\n        \"dtype\": \"number\",\n        \"std\": 0,\n        \"min\": 1,\n        \"max\": 3,\n        \"num_unique_values\": 3,\n        \"samples\": [\n          2,\n          1,\n          3\n        ],\n        \"semantic_type\": \"\",\n        \"description\": \"\"\n      }\n    },\n    {\n      \"column\": \"M\\u00e9todo de pagamento\",\n      \"properties\": {\n        \"dtype\": \"category\",\n        \"num_unique_values\": 3,\n        \"samples\": [\n          \"Cart\\u00e3o\",\n          \"Dinheiro\",\n          \"PIX\"\n        ],\n        \"semantic_type\": \"\",\n        \"description\": \"\"\n      }\n    },\n    {\n      \"column\": \"Regi\\u00e3o de venda\",\n      \"properties\": {\n        \"dtype\": \"string\",\n        \"num_unique_values\": 5,\n        \"samples\": [\n          \"Sul\",\n          \"Oeste\",\n          \"Norte\"\n        ],\n        \"semantic_type\": \"\",\n        \"description\": \"\"\n      }\n    }\n  ]\n}"
            }
          },
          "metadata": {},
          "execution_count": 6
        }
      ]
    },
    {
      "cell_type": "code",
      "source": [
        "# calcular media\n",
        "\n",
        "media = df[\"Valor da venda\"].mean()\n",
        "print(media)"
      ],
      "metadata": {
        "colab": {
          "base_uri": "https://localhost:8080/"
        },
        "id": "LFMkVJ6y8JKW",
        "outputId": "d102d03e-18d1-42bb-91f1-600dec253bf4"
      },
      "execution_count": 8,
      "outputs": [
        {
          "output_type": "stream",
          "name": "stdout",
          "text": [
            "100.0\n"
          ]
        }
      ]
    },
    {
      "cell_type": "code",
      "source": [
        "# calcular mediana\n",
        "\n",
        "mediana = df[\"Valor da venda\"].median()\n",
        "print(mediana)"
      ],
      "metadata": {
        "colab": {
          "base_uri": "https://localhost:8080/"
        },
        "id": "STkEOUfK8hDv",
        "outputId": "2b04d211-bbb4-4ac6-d26d-7794fe05df8d"
      },
      "execution_count": 9,
      "outputs": [
        {
          "output_type": "stream",
          "name": "stdout",
          "text": [
            "100.0\n"
          ]
        }
      ]
    },
    {
      "cell_type": "code",
      "source": [
        "# calcular o minimo\n",
        "\n",
        "minimo = df[\"Valor da venda\"].min()\n",
        "print(minimo)"
      ],
      "metadata": {
        "colab": {
          "base_uri": "https://localhost:8080/"
        },
        "id": "uuKMLOm98zpP",
        "outputId": "6de8de1f-eb2f-455d-a40f-995db0a7a0fe"
      },
      "execution_count": 10,
      "outputs": [
        {
          "output_type": "stream",
          "name": "stdout",
          "text": [
            "50.0\n"
          ]
        }
      ]
    },
    {
      "cell_type": "code",
      "source": [
        "# calcular o maximo\n",
        "\n",
        "maximo = df[\"Valor da venda\"].max()\n",
        "print(maximo)"
      ],
      "metadata": {
        "colab": {
          "base_uri": "https://localhost:8080/"
        },
        "id": "ljr_hH1c84Vf",
        "outputId": "4c26c57d-1b1c-4325-9eb6-b0841763fb90"
      },
      "execution_count": 11,
      "outputs": [
        {
          "output_type": "stream",
          "name": "stdout",
          "text": [
            "150.0\n"
          ]
        }
      ]
    },
    {
      "cell_type": "code",
      "source": [
        "# calcular o desvio padrão\n",
        "\n",
        "desvio_padrao = df[\"Valor da venda\"].std()\n",
        "print(desvio_padrao)"
      ],
      "metadata": {
        "colab": {
          "base_uri": "https://localhost:8080/"
        },
        "id": "TBino3WM9AEv",
        "outputId": "871a3356-e8a8-4241-d819-c54516d943d2"
      },
      "execution_count": 12,
      "outputs": [
        {
          "output_type": "stream",
          "name": "stdout",
          "text": [
            "29.43920288775949\n"
          ]
        }
      ]
    },
    {
      "cell_type": "code",
      "source": [
        "# Criar histograma\n",
        "\n",
        "plt.figure(figsize=(10, 6))\n",
        "plt.hist(df[\"Valor da venda\"], bins=10, edgecolor=\"black\")\n",
        "plt.title(\"Distribuição dos Valores das Vendas\")\n",
        "plt.xlabel(\"Valor da venda\")\n",
        "plt.ylabel(\"Frequência\")\n",
        "plt.grid(True)"
      ],
      "metadata": {
        "colab": {
          "base_uri": "https://localhost:8080/",
          "height": 564
        },
        "id": "ZoRETh5j9Guv",
        "outputId": "1d3a5d74-748b-4252-c059-f4d8fca8b1d4"
      },
      "execution_count": 13,
      "outputs": [
        {
          "output_type": "display_data",
          "data": {
            "text/plain": [
              "<Figure size 1000x600 with 1 Axes>"
            ],
            "image/png": "[encoded data removed]"
          },
          "metadata": {}
        }
      ]
    }
  ]
}