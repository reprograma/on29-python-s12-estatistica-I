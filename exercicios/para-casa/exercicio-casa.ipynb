{
 "cells": [
  {
   "cell_type": "code",
   "execution_count": 12,
   "metadata": {},
   "outputs": [],
   "source": [
    "# Bibliotecas \n",
    "\n",
    "import pandas as pd\n",
    "import numpy as np\n",
    "import matplotlib.pyplot as plt\n",
    "import seaborn as sns\n"
   ]
  },
  {
   "cell_type": "code",
   "execution_count": 8,
   "metadata": {},
   "outputs": [
    {
     "data": {
      "text/html": [
       "<div>\n",
       "<style scoped>\n",
       "    .dataframe tbody tr th:only-of-type {\n",
       "        vertical-align: middle;\n",
       "    }\n",
       "\n",
       "    .dataframe tbody tr th {\n",
       "        vertical-align: top;\n",
       "    }\n",
       "\n",
       "    .dataframe thead th {\n",
       "        text-align: right;\n",
       "    }\n",
       "</style>\n",
       "<table border=\"1\" class=\"dataframe\">\n",
       "  <thead>\n",
       "    <tr style=\"text-align: right;\">\n",
       "      <th></th>\n",
       "      <th>Data da venda</th>\n",
       "      <th>Valor da venda</th>\n",
       "      <th>Produto vendido</th>\n",
       "      <th>Quantidade vendida</th>\n",
       "      <th>Metodo de pagamento</th>\n",
       "      <th>Regiao de venda</th>\n",
       "    </tr>\n",
       "  </thead>\n",
       "  <tbody>\n",
       "    <tr>\n",
       "      <th>0</th>\n",
       "      <td>2023-01-01</td>\n",
       "      <td>100.0</td>\n",
       "      <td>Produto A</td>\n",
       "      <td>2</td>\n",
       "      <td>Cartão</td>\n",
       "      <td>Centro</td>\n",
       "    </tr>\n",
       "    <tr>\n",
       "      <th>1</th>\n",
       "      <td>2023-01-02</td>\n",
       "      <td>50.0</td>\n",
       "      <td>Produto B</td>\n",
       "      <td>1</td>\n",
       "      <td>Dinheiro</td>\n",
       "      <td>Sul</td>\n",
       "    </tr>\n",
       "    <tr>\n",
       "      <th>2</th>\n",
       "      <td>2023-01-03</td>\n",
       "      <td>120.0</td>\n",
       "      <td>Produto C</td>\n",
       "      <td>3</td>\n",
       "      <td>Cartão</td>\n",
       "      <td>Norte</td>\n",
       "    </tr>\n",
       "    <tr>\n",
       "      <th>3</th>\n",
       "      <td>2023-01-04</td>\n",
       "      <td>80.0</td>\n",
       "      <td>Produto A</td>\n",
       "      <td>2</td>\n",
       "      <td>PIX</td>\n",
       "      <td>Leste</td>\n",
       "    </tr>\n",
       "    <tr>\n",
       "      <th>4</th>\n",
       "      <td>2023-01-05</td>\n",
       "      <td>150.0</td>\n",
       "      <td>Produto B</td>\n",
       "      <td>2</td>\n",
       "      <td>Cartão</td>\n",
       "      <td>Oeste</td>\n",
       "    </tr>\n",
       "    <tr>\n",
       "      <th>5</th>\n",
       "      <td>2023-01-06</td>\n",
       "      <td>70.0</td>\n",
       "      <td>Produto C</td>\n",
       "      <td>1</td>\n",
       "      <td>Dinheiro</td>\n",
       "      <td>Centro</td>\n",
       "    </tr>\n",
       "    <tr>\n",
       "      <th>6</th>\n",
       "      <td>2023-01-07</td>\n",
       "      <td>90.0</td>\n",
       "      <td>Produto A</td>\n",
       "      <td>2</td>\n",
       "      <td>PIX</td>\n",
       "      <td>Sul</td>\n",
       "    </tr>\n",
       "    <tr>\n",
       "      <th>7</th>\n",
       "      <td>2023-01-08</td>\n",
       "      <td>110.0</td>\n",
       "      <td>Produto B</td>\n",
       "      <td>3</td>\n",
       "      <td>Cartão</td>\n",
       "      <td>Norte</td>\n",
       "    </tr>\n",
       "    <tr>\n",
       "      <th>8</th>\n",
       "      <td>2023-01-09</td>\n",
       "      <td>130.0</td>\n",
       "      <td>Produto C</td>\n",
       "      <td>2</td>\n",
       "      <td>Dinheiro</td>\n",
       "      <td>Leste</td>\n",
       "    </tr>\n",
       "    <tr>\n",
       "      <th>9</th>\n",
       "      <td>2023-01-10</td>\n",
       "      <td>100.0</td>\n",
       "      <td>Produto A</td>\n",
       "      <td>1</td>\n",
       "      <td>Cartão</td>\n",
       "      <td>Oeste</td>\n",
       "    </tr>\n",
       "  </tbody>\n",
       "</table>\n",
       "</div>"
      ],
      "text/plain": [
       "  Data da venda  Valor da venda Produto vendido  Quantidade vendida  \\\n",
       "0    2023-01-01           100.0       Produto A                   2   \n",
       "1    2023-01-02            50.0       Produto B                   1   \n",
       "2    2023-01-03           120.0       Produto C                   3   \n",
       "3    2023-01-04            80.0       Produto A                   2   \n",
       "4    2023-01-05           150.0       Produto B                   2   \n",
       "5    2023-01-06            70.0       Produto C                   1   \n",
       "6    2023-01-07            90.0       Produto A                   2   \n",
       "7    2023-01-08           110.0       Produto B                   3   \n",
       "8    2023-01-09           130.0       Produto C                   2   \n",
       "9    2023-01-10           100.0       Produto A                   1   \n",
       "\n",
       "  Metodo de pagamento Regiao de venda  \n",
       "0              Cartão          Centro  \n",
       "1            Dinheiro             Sul  \n",
       "2              Cartão           Norte  \n",
       "3                 PIX           Leste  \n",
       "4              Cartão           Oeste  \n",
       "5            Dinheiro          Centro  \n",
       "6                 PIX             Sul  \n",
       "7              Cartão           Norte  \n",
       "8            Dinheiro           Leste  \n",
       "9              Cartão           Oeste  "
      ]
     },
     "execution_count": 8,
     "metadata": {},
     "output_type": "execute_result"
    }
   ],
   "source": [
    "# Carregar os dados do CSV\n",
    "dados_vendas = pd.read_csv('dados_vendas.csv', encoding='latin1')\n",
    "dados_vendas"
   ]
  },
  {
   "cell_type": "code",
   "execution_count": 9,
   "metadata": {},
   "outputs": [],
   "source": [
    "# Calcular as métricas estatísticas\n",
    "media = dados_vendas['Valor da venda'].mean()\n",
    "mediana = dados_vendas['Valor da venda'].median()\n",
    "minimo = dados_vendas['Valor da venda'].min()\n",
    "maximo = dados_vendas['Valor da venda'].max()\n",
    "desvio_padrao = dados_vendas['Valor da venda'].std()"
   ]
  },
  {
   "cell_type": "code",
   "execution_count": 28,
   "metadata": {},
   "outputs": [
    {
     "data": {
      "image/png": "[encoded data removed]",
      "text/plain": [
       "<Figure size 1000x600 with 1 Axes>"
      ]
     },
     "metadata": {},
     "output_type": "display_data"
    }
   ],
   "source": [
    "# Criar o histograma\n",
    "plt.figure(figsize=(10, 6))\n",
    "plt.hist(dados_vendas['Valor da venda'], bins=30, edgecolor='#800080', color = '#9370DB')\n",
    "plt.title('Distribuição dos Valores das Vendas', pad = 20, fontsize = 16, weight= 'bold')\n",
    "plt.xlabel('Valor da Venda', fontsize=12, fontweight='bold', fontstyle='italic')\n",
    "plt.ylabel('Frequência', fontsize=12, fontweight='bold',  fontstyle='italic')\n",
    "plt.gca().set_axisbelow(True)\n",
    "plt.grid(alpha = 0.25, color = 'k')\n",
    "plt.show()"
   ]
  },
  {
   "cell_type": "code",
   "execution_count": 29,
   "metadata": {},
   "outputs": [
    {
     "name": "stdout",
     "output_type": "stream",
     "text": [
      "\n",
      "Relatório de Análise Estatística Descritiva\n",
      "\n",
      "Média dos valores das vendas: 100.00\n",
      "Mediana dos valores das vendas: 100.00\n",
      "Mínimo dos valores das vendas: 50.00\n",
      "Máximo dos valores das vendas: 150.00\n",
      "Desvio padrão dos valores das vendas: 29.44\n",
      "\n"
     ]
    }
   ],
   "source": [
    "# Relatório com as descobertas\n",
    "relatorio = f\"\"\"\n",
    "Relatório de Análise Estatística Descritiva\n",
    "\n",
    "Média dos valores das vendas: {media:.2f}\n",
    "Mediana dos valores das vendas: {mediana:.2f}\n",
    "Mínimo dos valores das vendas: {minimo:.2f}\n",
    "Máximo dos valores das vendas: {maximo:.2f}\n",
    "Desvio padrão dos valores das vendas: {desvio_padrao:.2f}\n",
    "\"\"\"\n",
    "\n",
    "print(relatorio)"
   ]
  }
 ],
 "metadata": {
  "kernelspec": {
   "display_name": "Python 3",
   "language": "python",
   "name": "python3"
  },
  "language_info": {
   "codemirror_mode": {
    "name": "ipython",
    "version": 3
   },
   "file_extension": ".py",
   "mimetype": "text/x-python",
   "name": "python",
   "nbconvert_exporter": "python",
   "pygments_lexer": "ipython3",
   "version": "3.12.4"
  }
 },
 "nbformat": 4,
 "nbformat_minor": 2
}
