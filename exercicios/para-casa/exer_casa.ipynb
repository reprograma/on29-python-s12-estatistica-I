{
 "cells": [
  {
   "cell_type": "code",
   "execution_count": 1,
   "metadata": {},
   "outputs": [],
   "source": [
    "import pandas as pd\n",
    "import numpy as np\n",
    "import matplotlib.pyplot as plt"
   ]
  },
  {
   "cell_type": "code",
   "execution_count": 7,
   "metadata": {},
   "outputs": [],
   "source": [
    "dados_vendas = [\n",
    "    {\"Data da venda\": \"2023-01-01\", \"Valor da venda\": 100.00, \"Produto vendido\": \"Produto A\", \"Quantidade vendida\": 2, \"Método de pagamento\": \"Cartão\", \"Região de venda\": \"Centro\"},\n",
    "    {\"Data da venda\": \"2023-01-02\", \"Valor da venda\": 50.00, \"Produto vendido\": \"Produto B\", \"Quantidade vendida\": 1, \"Método de pagamento\": \"Dinheiro\", \"Região de venda\": \"Sul\"},\n",
    "    {\"Data da venda\": \"2023-01-03\", \"Valor da venda\": 120.00, \"Produto vendido\": \"Produto C\", \"Quantidade vendida\": 3, \"Método de pagamento\": \"Cartão\", \"Região de venda\": \"Norte\"},\n",
    "    {\"Data da venda\": \"2023-01-04\", \"Valor da venda\": 80.00, \"Produto vendido\": \"Produto A\", \"Quantidade vendida\": 2, \"Método de pagamento\": \"PIX\", \"Região de venda\": \"Leste\"},\n",
    "    {\"Data da venda\": \"2023-01-05\", \"Valor da venda\": 150.00, \"Produto vendido\": \"Produto B\", \"Quantidade vendida\": 2, \"Método de pagamento\": \"Cartão\", \"Região de venda\": \"Oeste\"},\n",
    "    {\"Data da venda\": \"2023-01-06\", \"Valor da venda\": 70.00, \"Produto vendido\": \"Produto C\", \"Quantidade vendida\": 1, \"Método de pagamento\": \"Dinheiro\", \"Região de venda\": \"Centro\"},\n",
    "    {\"Data da venda\": \"2023-01-07\", \"Valor da venda\": 90.00, \"Produto vendido\": \"Produto A\", \"Quantidade vendida\": 2, \"Método de pagamento\": \"PIX\", \"Região de venda\": \"Sul\"},\n",
    "    {\"Data da venda\": \"2023-01-08\", \"Valor da venda\": 110.00, \"Produto vendido\": \"Produto B\", \"Quantidade vendida\": 3, \"Método de pagamento\": \"Cartão\", \"Região de venda\": \"Norte\"},\n",
    "    {\"Data da venda\": \"2023-01-09\", \"Valor da venda\": 130.00, \"Produto vendido\": \"Produto C\", \"Quantidade vendida\": 2, \"Método de pagamento\": \"Dinheiro\", \"Região de venda\": \"Leste\"},\n",
    "    {\"Data da venda\": \"2023-01-10\", \"Valor da venda\": 100.00, \"Produto vendido\": \"Produto A\", \"Quantidade vendida\": 1, \"Método de pagamento\": \"Cartão\", \"Região de venda\": \"Oeste\"}\n",
    "]"
   ]
  },
  {
   "cell_type": "code",
   "execution_count": 8,
   "metadata": {},
   "outputs": [],
   "source": [
    "df = pd.DataFrame(dados_vendas)"
   ]
  },
  {
   "cell_type": "code",
   "execution_count": 10,
   "metadata": {},
   "outputs": [],
   "source": [
    "df.to_csv('dados_vendas.csv')"
   ]
  }
 ],
 "metadata": {
  "kernelspec": {
   "display_name": "Python 3",
   "language": "python",
   "name": "python3"
  },
  "language_info": {
   "codemirror_mode": {
    "name": "ipython",
    "version": 3
   },
   "file_extension": ".py",
   "mimetype": "text/x-python",
   "name": "python",
   "nbconvert_exporter": "python",
   "pygments_lexer": "ipython3",
   "version": "3.12.3"
  }
 },
 "nbformat": 4,
 "nbformat_minor": 2
}
