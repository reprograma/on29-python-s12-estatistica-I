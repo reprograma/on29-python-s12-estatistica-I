{
 "cells": [
  {
   "cell_type": "code",
   "execution_count": 59,
   "metadata": {},
   "outputs": [],
   "source": [
    "import pandas as pd\n",
    "import matplotlib.pyplot as plt\n",
    "import numpy as np"
   ]
  },
  {
   "cell_type": "code",
   "execution_count": 60,
   "metadata": {},
   "outputs": [
    {
     "data": {
      "text/plain": [
       "' dados_vendas = [\\n    {\"Data da venda\": \"2023-01-01\", \"Valor da venda\": 100.00, \"Produto vendido\": \"Produto A\", \"Quantidade vendida\": 2, \"Método de pagamento\": \"Cartão\", \"Região de venda\": \"Centro\"},\\n    {\"Data da venda\": \"2023-01-02\", \"Valor da venda\": 50.00, \"Produto vendido\": \"Produto B\", \"Quantidade vendida\": 1, \"Método de pagamento\": \"Dinheiro\", \"Região de venda\": \"Sul\"},\\n    {\"Data da venda\": \"2023-01-03\", \"Valor da venda\": 120.00, \"Produto vendido\": \"Produto C\", \"Quantidade vendida\": 3, \"Método de pagamento\": \"Cartão\", \"Região de venda\": \"Norte\"},\\n    {\"Data da venda\": \"2023-01-04\", \"Valor da venda\": 80.00, \"Produto vendido\": \"Produto A\", \"Quantidade vendida\": 2, \"Método de pagamento\": \"PIX\", \"Região de venda\": \"Leste\"},\\n    {\"Data da venda\": \"2023-01-05\", \"Valor da venda\": 150.00, \"Produto vendido\": \"Produto B\", \"Quantidade vendida\": 2, \"Método de pagamento\": \"Cartão\", \"Região de venda\": \"Oeste\"},\\n    {\"Data da venda\": \"2023-01-06\", \"Valor da venda\": 70.00, \"Produto vendido\": \"Produto C\", \"Quantidade vendida\": 1, \"Método de pagamento\": \"Dinheiro\", \"Região de venda\": \"Centro\"},\\n    {\"Data da venda\": \"2023-01-07\", \"Valor da venda\": 90.00, \"Produto vendido\": \"Produto A\", \"Quantidade vendida\": 2, \"Método de pagamento\": \"PIX\", \"Região de venda\": \"Sul\"},\\n    {\"Data da venda\": \"2023-01-08\", \"Valor da venda\": 110.00, \"Produto vendido\": \"Produto B\", \"Quantidade vendida\": 3, \"Método de pagamento\": \"Cartão\", \"Região de venda\": \"Norte\"},\\n    {\"Data da venda\": \"2023-01-09\", \"Valor da venda\": 130.00, \"Produto vendido\": \"Produto C\", \"Quantidade vendida\": 2, \"Método de pagamento\": \"Dinheiro\", \"Região de venda\": \"Leste\"},\\n    {\"Data da venda\": \"2023-01-10\", \"Valor da venda\": 100.00, \"Produto vendido\": \"Produto A\", \"Quantidade vendida\": 1, \"Método de pagamento\": \"Cartão\", \"Região de venda\": \"Oeste\"}\\n]\\n'"
      ]
     },
     "execution_count": 60,
     "metadata": {},
     "output_type": "execute_result"
    }
   ],
   "source": [
    "''' dados_vendas = [\n",
    "    {\"Data da venda\": \"2023-01-01\", \"Valor da venda\": 100.00, \"Produto vendido\": \"Produto A\", \"Quantidade vendida\": 2, \"Método de pagamento\": \"Cartão\", \"Região de venda\": \"Centro\"},\n",
    "    {\"Data da venda\": \"2023-01-02\", \"Valor da venda\": 50.00, \"Produto vendido\": \"Produto B\", \"Quantidade vendida\": 1, \"Método de pagamento\": \"Dinheiro\", \"Região de venda\": \"Sul\"},\n",
    "    {\"Data da venda\": \"2023-01-03\", \"Valor da venda\": 120.00, \"Produto vendido\": \"Produto C\", \"Quantidade vendida\": 3, \"Método de pagamento\": \"Cartão\", \"Região de venda\": \"Norte\"},\n",
    "    {\"Data da venda\": \"2023-01-04\", \"Valor da venda\": 80.00, \"Produto vendido\": \"Produto A\", \"Quantidade vendida\": 2, \"Método de pagamento\": \"PIX\", \"Região de venda\": \"Leste\"},\n",
    "    {\"Data da venda\": \"2023-01-05\", \"Valor da venda\": 150.00, \"Produto vendido\": \"Produto B\", \"Quantidade vendida\": 2, \"Método de pagamento\": \"Cartão\", \"Região de venda\": \"Oeste\"},\n",
    "    {\"Data da venda\": \"2023-01-06\", \"Valor da venda\": 70.00, \"Produto vendido\": \"Produto C\", \"Quantidade vendida\": 1, \"Método de pagamento\": \"Dinheiro\", \"Região de venda\": \"Centro\"},\n",
    "    {\"Data da venda\": \"2023-01-07\", \"Valor da venda\": 90.00, \"Produto vendido\": \"Produto A\", \"Quantidade vendida\": 2, \"Método de pagamento\": \"PIX\", \"Região de venda\": \"Sul\"},\n",
    "    {\"Data da venda\": \"2023-01-08\", \"Valor da venda\": 110.00, \"Produto vendido\": \"Produto B\", \"Quantidade vendida\": 3, \"Método de pagamento\": \"Cartão\", \"Região de venda\": \"Norte\"},\n",
    "    {\"Data da venda\": \"2023-01-09\", \"Valor da venda\": 130.00, \"Produto vendido\": \"Produto C\", \"Quantidade vendida\": 2, \"Método de pagamento\": \"Dinheiro\", \"Região de venda\": \"Leste\"},\n",
    "    {\"Data da venda\": \"2023-01-10\", \"Valor da venda\": 100.00, \"Produto vendido\": \"Produto A\", \"Quantidade vendida\": 1, \"Método de pagamento\": \"Cartão\", \"Região de venda\": \"Oeste\"}\n",
    "]\n",
    "'''"
   ]
  },
  {
   "cell_type": "code",
   "execution_count": 61,
   "metadata": {},
   "outputs": [],
   "source": [
    "df_dados_vendas = pd.DataFrame({'Produto vendido':['Produto A','Produto B','Produto C','Produto A','Produto B','Produto C','Produto A','Produto B','Produto C','Produto A'],'Quantidade vendida':[2,1,3,2,2,1,2,3,2,1],\n",
    "                                'Valor da venda':[100.00,50.00,120.00,80.00,150.00,70.00,90.00,110.00,130.00,100.00],'Data da venda':['2023-01-01','2023-01-02','2023-01-03','2023-01-04','2023-01-05','2023-01-06','2023-01-07','2023-01-08','2023-01-09','2023-01-10'],\n",
    "                                'Método de pagamento':['Cartão','Dinheiro','Cartão','PIX','Cartão','Dinheiro','PIX','Cartão','Dinheiro','Cartão'],\n",
    "                                'Região de venda':['Centro','Sul','Norte ','Leste','Oeste','Centro','Sul','Norte','Leste','Oeste']\n",
    "})"
   ]
  },
  {
   "cell_type": "code",
   "execution_count": 62,
   "metadata": {},
   "outputs": [
    {
     "data": {
      "text/html": [
       "<div>\n",
       "<style scoped>\n",
       "    .dataframe tbody tr th:only-of-type {\n",
       "        vertical-align: middle;\n",
       "    }\n",
       "\n",
       "    .dataframe tbody tr th {\n",
       "        vertical-align: top;\n",
       "    }\n",
       "\n",
       "    .dataframe thead th {\n",
       "        text-align: right;\n",
       "    }\n",
       "</style>\n",
       "<table border=\"1\" class=\"dataframe\">\n",
       "  <thead>\n",
       "    <tr style=\"text-align: right;\">\n",
       "      <th></th>\n",
       "      <th>Produto vendido</th>\n",
       "      <th>Quantidade vendida</th>\n",
       "      <th>Valor da venda</th>\n",
       "      <th>Data da venda</th>\n",
       "      <th>Método de pagamento</th>\n",
       "      <th>Região de venda</th>\n",
       "    </tr>\n",
       "  </thead>\n",
       "  <tbody>\n",
       "    <tr>\n",
       "      <th>0</th>\n",
       "      <td>Produto A</td>\n",
       "      <td>2</td>\n",
       "      <td>100.0</td>\n",
       "      <td>2023-01-01</td>\n",
       "      <td>Cartão</td>\n",
       "      <td>Centro</td>\n",
       "    </tr>\n",
       "    <tr>\n",
       "      <th>1</th>\n",
       "      <td>Produto B</td>\n",
       "      <td>1</td>\n",
       "      <td>50.0</td>\n",
       "      <td>2023-01-02</td>\n",
       "      <td>Dinheiro</td>\n",
       "      <td>Sul</td>\n",
       "    </tr>\n",
       "    <tr>\n",
       "      <th>2</th>\n",
       "      <td>Produto C</td>\n",
       "      <td>3</td>\n",
       "      <td>120.0</td>\n",
       "      <td>2023-01-03</td>\n",
       "      <td>Cartão</td>\n",
       "      <td>Norte</td>\n",
       "    </tr>\n",
       "    <tr>\n",
       "      <th>3</th>\n",
       "      <td>Produto A</td>\n",
       "      <td>2</td>\n",
       "      <td>80.0</td>\n",
       "      <td>2023-01-04</td>\n",
       "      <td>PIX</td>\n",
       "      <td>Leste</td>\n",
       "    </tr>\n",
       "    <tr>\n",
       "      <th>4</th>\n",
       "      <td>Produto B</td>\n",
       "      <td>2</td>\n",
       "      <td>150.0</td>\n",
       "      <td>2023-01-05</td>\n",
       "      <td>Cartão</td>\n",
       "      <td>Oeste</td>\n",
       "    </tr>\n",
       "    <tr>\n",
       "      <th>5</th>\n",
       "      <td>Produto C</td>\n",
       "      <td>1</td>\n",
       "      <td>70.0</td>\n",
       "      <td>2023-01-06</td>\n",
       "      <td>Dinheiro</td>\n",
       "      <td>Centro</td>\n",
       "    </tr>\n",
       "    <tr>\n",
       "      <th>6</th>\n",
       "      <td>Produto A</td>\n",
       "      <td>2</td>\n",
       "      <td>90.0</td>\n",
       "      <td>2023-01-07</td>\n",
       "      <td>PIX</td>\n",
       "      <td>Sul</td>\n",
       "    </tr>\n",
       "    <tr>\n",
       "      <th>7</th>\n",
       "      <td>Produto B</td>\n",
       "      <td>3</td>\n",
       "      <td>110.0</td>\n",
       "      <td>2023-01-08</td>\n",
       "      <td>Cartão</td>\n",
       "      <td>Norte</td>\n",
       "    </tr>\n",
       "    <tr>\n",
       "      <th>8</th>\n",
       "      <td>Produto C</td>\n",
       "      <td>2</td>\n",
       "      <td>130.0</td>\n",
       "      <td>2023-01-09</td>\n",
       "      <td>Dinheiro</td>\n",
       "      <td>Leste</td>\n",
       "    </tr>\n",
       "    <tr>\n",
       "      <th>9</th>\n",
       "      <td>Produto A</td>\n",
       "      <td>1</td>\n",
       "      <td>100.0</td>\n",
       "      <td>2023-01-10</td>\n",
       "      <td>Cartão</td>\n",
       "      <td>Oeste</td>\n",
       "    </tr>\n",
       "  </tbody>\n",
       "</table>\n",
       "</div>"
      ],
      "text/plain": [
       "  Produto vendido  Quantidade vendida  Valor da venda Data da venda  \\\n",
       "0       Produto A                   2           100.0    2023-01-01   \n",
       "1       Produto B                   1            50.0    2023-01-02   \n",
       "2       Produto C                   3           120.0    2023-01-03   \n",
       "3       Produto A                   2            80.0    2023-01-04   \n",
       "4       Produto B                   2           150.0    2023-01-05   \n",
       "5       Produto C                   1            70.0    2023-01-06   \n",
       "6       Produto A                   2            90.0    2023-01-07   \n",
       "7       Produto B                   3           110.0    2023-01-08   \n",
       "8       Produto C                   2           130.0    2023-01-09   \n",
       "9       Produto A                   1           100.0    2023-01-10   \n",
       "\n",
       "  Método de pagamento Região de venda  \n",
       "0              Cartão          Centro  \n",
       "1            Dinheiro             Sul  \n",
       "2              Cartão          Norte   \n",
       "3                 PIX           Leste  \n",
       "4              Cartão           Oeste  \n",
       "5            Dinheiro          Centro  \n",
       "6                 PIX             Sul  \n",
       "7              Cartão           Norte  \n",
       "8            Dinheiro           Leste  \n",
       "9              Cartão           Oeste  "
      ]
     },
     "execution_count": 62,
     "metadata": {},
     "output_type": "execute_result"
    }
   ],
   "source": [
    "df_dados_vendas"
   ]
  },
  {
   "cell_type": "code",
   "execution_count": 63,
   "metadata": {},
   "outputs": [
    {
     "data": {
      "text/plain": [
       "Produto vendido         object\n",
       "Quantidade vendida       int64\n",
       "Valor da venda         float64\n",
       "Data da venda           object\n",
       "Método de pagamento     object\n",
       "Região de venda         object\n",
       "dtype: object"
      ]
     },
     "execution_count": 63,
     "metadata": {},
     "output_type": "execute_result"
    }
   ],
   "source": [
    "df_dados_vendas.dtypes"
   ]
  },
  {
   "cell_type": "code",
   "execution_count": 64,
   "metadata": {},
   "outputs": [],
   "source": [
    "df_dados_vendas_backup = df_dados_vendas.copy()\n"
   ]
  },
  {
   "cell_type": "code",
   "execution_count": 65,
   "metadata": {},
   "outputs": [
    {
     "data": {
      "text/plain": [
       "(10, 6)"
      ]
     },
     "execution_count": 65,
     "metadata": {},
     "output_type": "execute_result"
    }
   ],
   "source": [
    "df_dados_vendas.shape"
   ]
  },
  {
   "cell_type": "code",
   "execution_count": 66,
   "metadata": {},
   "outputs": [],
   "source": [
    "def metricas(df_dados_vendas):\n",
    "\n",
    "    media = df_dados_vendas['Valor da venda'].mean()\n",
    "    mediana = df_dados_vendas['Valor da venda'].median()\n",
    "    variancia = df_dados_vendas['Valor da venda'].var()\n",
    "    desvio_padrão = df_dados_vendas['Valor da venda'].std()\n",
    "    moda = df_dados_vendas['Valor da venda'].mode()\n",
    "    min = df_dados_vendas['Valor da venda'].min()\n",
    "    max = df_dados_vendas['Valor da venda'].max()\n",
    "\n",
    "    return media,mediana,variancia,desvio_padrão,moda,min,max"
   ]
  },
  {
   "cell_type": "code",
   "execution_count": 67,
   "metadata": {},
   "outputs": [],
   "source": [
    "media_venda,mediana_vendas,variancia_vendas,desvio_vendas,moda_vendas,valor_minimo,valor_maximo  = metricas(df_dados_vendas) "
   ]
  },
  {
   "cell_type": "code",
   "execution_count": 68,
   "metadata": {},
   "outputs": [
    {
     "name": "stdout",
     "output_type": "stream",
     "text": [
      "Métricas da coluna valor Preço\n",
      "Média: 100.0\n",
      "Mediana: 100.0\n",
      "Variância: 866.6666666666666\n",
      "Desvio Padrão: 29.43920288775949\n",
      "Moda: 0    100.0\n",
      "Name: Valor da venda, dtype: float64\n",
      "valor Mínimo:  50.0\n",
      "valor Máximi:  150.0\n"
     ]
    }
   ],
   "source": [
    "print(\"Métricas da coluna valor Preço\")\n",
    "print(\"Média:\",media_venda)\n",
    "print(\"Mediana:\",mediana_vendas)\n",
    "print(\"Variância:\",variancia_vendas)\n",
    "print(\"Desvio Padrão:\",desvio_vendas)\n",
    "print(\"Moda:\",moda_vendas)\n",
    "print(\"valor Mínimo: \", valor_minimo)\n",
    "print(\"valor Máximi: \", valor_maximo)\n"
   ]
  },
  {
   "cell_type": "code",
   "execution_count": 69,
   "metadata": {},
   "outputs": [
    {
     "data": {
      "text/html": [
       "<div>\n",
       "<style scoped>\n",
       "    .dataframe tbody tr th:only-of-type {\n",
       "        vertical-align: middle;\n",
       "    }\n",
       "\n",
       "    .dataframe tbody tr th {\n",
       "        vertical-align: top;\n",
       "    }\n",
       "\n",
       "    .dataframe thead th {\n",
       "        text-align: right;\n",
       "    }\n",
       "</style>\n",
       "<table border=\"1\" class=\"dataframe\">\n",
       "  <thead>\n",
       "    <tr style=\"text-align: right;\">\n",
       "      <th></th>\n",
       "      <th>Quantidade vendida</th>\n",
       "      <th>Valor da venda</th>\n",
       "    </tr>\n",
       "  </thead>\n",
       "  <tbody>\n",
       "    <tr>\n",
       "      <th>count</th>\n",
       "      <td>10.000000</td>\n",
       "      <td>10.000000</td>\n",
       "    </tr>\n",
       "    <tr>\n",
       "      <th>mean</th>\n",
       "      <td>1.900000</td>\n",
       "      <td>100.000000</td>\n",
       "    </tr>\n",
       "    <tr>\n",
       "      <th>std</th>\n",
       "      <td>0.737865</td>\n",
       "      <td>29.439203</td>\n",
       "    </tr>\n",
       "    <tr>\n",
       "      <th>min</th>\n",
       "      <td>1.000000</td>\n",
       "      <td>50.000000</td>\n",
       "    </tr>\n",
       "    <tr>\n",
       "      <th>25%</th>\n",
       "      <td>1.250000</td>\n",
       "      <td>82.500000</td>\n",
       "    </tr>\n",
       "    <tr>\n",
       "      <th>50%</th>\n",
       "      <td>2.000000</td>\n",
       "      <td>100.000000</td>\n",
       "    </tr>\n",
       "    <tr>\n",
       "      <th>75%</th>\n",
       "      <td>2.000000</td>\n",
       "      <td>117.500000</td>\n",
       "    </tr>\n",
       "    <tr>\n",
       "      <th>max</th>\n",
       "      <td>3.000000</td>\n",
       "      <td>150.000000</td>\n",
       "    </tr>\n",
       "  </tbody>\n",
       "</table>\n",
       "</div>"
      ],
      "text/plain": [
       "       Quantidade vendida  Valor da venda\n",
       "count           10.000000       10.000000\n",
       "mean             1.900000      100.000000\n",
       "std              0.737865       29.439203\n",
       "min              1.000000       50.000000\n",
       "25%              1.250000       82.500000\n",
       "50%              2.000000      100.000000\n",
       "75%              2.000000      117.500000\n",
       "max              3.000000      150.000000"
      ]
     },
     "execution_count": 69,
     "metadata": {},
     "output_type": "execute_result"
    }
   ],
   "source": [
    "df_dados_vendas.describe()"
   ]
  },
  {
   "cell_type": "code",
   "execution_count": 70,
   "metadata": {},
   "outputs": [],
   "source": [
    "valores_vendas = df_dados_vendas['Valor da venda'].count()"
   ]
  },
  {
   "cell_type": "code",
   "execution_count": 71,
   "metadata": {},
   "outputs": [
    {
     "name": "stdout",
     "output_type": "stream",
     "text": [
      "10\n"
     ]
    }
   ],
   "source": [
    "# Tamanho da amostra:\n",
    "print(valores_vendas)"
   ]
  },
  {
   "cell_type": "code",
   "execution_count": 72,
   "metadata": {},
   "outputs": [
    {
     "name": "stdout",
     "output_type": "stream",
     "text": [
      "3.0\n"
     ]
    }
   ],
   "source": [
    "# Numero de classes:\n",
    "numero_de_classes = np.sqrt(valores_vendas)\n",
    "k = np.floor(numero_de_classes )\n",
    "print(k)\n"
   ]
  },
  {
   "cell_type": "code",
   "execution_count": 73,
   "metadata": {},
   "outputs": [
    {
     "name": "stdout",
     "output_type": "stream",
     "text": [
      "100.0\n"
     ]
    }
   ],
   "source": [
    "# Amplitude Total:\n",
    "a = valor_maximo - valor_minimo\n",
    "print(a)"
   ]
  },
  {
   "cell_type": "code",
   "execution_count": 74,
   "metadata": {},
   "outputs": [
    {
     "name": "stdout",
     "output_type": "stream",
     "text": [
      "50.0\n"
     ]
    }
   ],
   "source": [
    "# Amplitude da Classe:\n",
    "c = a/(k-1)\n",
    "\n",
    "print(c)"
   ]
  },
  {
   "cell_type": "code",
   "execution_count": 75,
   "metadata": {},
   "outputs": [
    {
     "name": "stdout",
     "output_type": "stream",
     "text": [
      "25.0\n"
     ]
    }
   ],
   "source": [
    "# Limite Inferior da classe\n",
    "\n",
    "li = valor_minimo -(c/2)\n",
    "print(li)"
   ]
  },
  {
   "cell_type": "code",
   "execution_count": 76,
   "metadata": {},
   "outputs": [
    {
     "name": "stdout",
     "output_type": "stream",
     "text": [
      "75.0\n"
     ]
    }
   ],
   "source": [
    "# Limite Superior da classe:\n",
    "ls = li + c\n",
    "print(ls)\n"
   ]
  },
  {
   "cell_type": "code",
   "execution_count": 93,
   "metadata": {},
   "outputs": [
    {
     "data": {
      "image/png": "[encoded data removed]",
      "text/plain": [
       "<Figure size 1000x600 with 1 Axes>"
      ]
     },
     "metadata": {},
     "output_type": "display_data"
    }
   ],
   "source": [
    "plt.figure(figsize=(10, 6))\n",
    "\n",
    "plt.hist(df_dados_vendas['Valor da venda'])\n",
    "\n",
    "# Título e rótulos\n",
    "plt.title('Histograma de Dados Aleatórios')\n",
    "plt.xlabel('Valor')\n",
    "plt.ylabel('Frequência')\n",
    "\n",
    "# Mostrar gráfico\n",
    "plt.show()"
   ]
  },
  {
   "cell_type": "code",
   "execution_count": null,
   "metadata": {},
   "outputs": [],
   "source": []
  }
 ],
 "metadata": {
  "kernelspec": {
   "display_name": "Python 3",
   "language": "python",
   "name": "python3"
  },
  "language_info": {
   "codemirror_mode": {
    "name": "ipython",
    "version": 3
   },
   "file_extension": ".py",
   "mimetype": "text/x-python",
   "name": "python",
   "nbconvert_exporter": "python",
   "pygments_lexer": "ipython3",
   "version": "3.12.2"
  }
 },
 "nbformat": 4,
 "nbformat_minor": 2
}
